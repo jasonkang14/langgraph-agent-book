{
 "cells": [
  {
   "cell_type": "markdown",
   "metadata": {},
   "source": [
    "# 8-1 분할정복"
   ]
  },
  {
   "cell_type": "markdown",
   "metadata": {},
   "source": [
    "## 8-1 잘못된 프롬프트 예시"
   ]
  },
  {
   "cell_type": "code",
   "execution_count": null,
   "metadata": {},
   "outputs": [],
   "source": [
    "# 필요한 라이브러리들을 가져온다.\n",
    "from langchain.prompts import PromptTemplate\n",
    "\n",
    "bad_prompt = PromptTemplate(\n",
    "    input_variables=[\"property_value\", \"ownership_period\"],\n",
    "    template=\"\"\"\n",
    "    당신은 종합부동산세 계산 전문가입니다. 아래 정보를 바탕으로 종합부동산세를 계산해주세요.\n",
    "    \n",
    "    부동산 가치: {property_value}\n",
    "    보유 기간: {ownership_period}\n",
    "    \n",
    "    다음 단계를 모두 고려해서 계산해주세요:\n",
    "    1. 과세표준액 계산 방법을 설명하고 계산해주세요\n",
    "    2. 공정시장가액비율을 적용해주세요\n",
    "    3. 공제액이 있다면 확인하고 적용해주세요\n",
    "    4. 과세표준을 계산해주세요\n",
    "    5. 세율을 확인하고 적용해주세요\n",
    "    6. 최종 세액을 계산해주세요\n",
    "    \n",
    "    각 단계별로 상세한 설명과 함께 계산 과정을 보여주시고, \n",
    "    관련 법률적 근거도 함께 제시해주세요.\n",
    "    \"\"\")\n"
   ]
  },
  {
   "cell_type": "code",
   "execution_count": null,
   "metadata": {},
   "outputs": [],
   "source": [
    "# 필요한 라이브러리들을 가져온다.\n",
    "from langchain.prompts import PromptTemplate\n",
    "\n",
    "# 1. 과세표준 계산 방법 확인\n",
    "tax_base_prompt = PromptTemplate(\n",
    "    input_variables=[\"property_value\"],\n",
    "    template=\"부동산 가액이 {property_value}원인 경우, 종합부동산세 과세표준 계산 방법을 법률적 근거와 함께 설명해주세요.\"\n",
    ")\n",
    "\n",
    "# 2. 공정시장가액비율 확인\n",
    "fair_market_prompt = PromptTemplate(\n",
    "    input_variables=[\"year\"],\n",
    "    template=\"{year}년도 종합부동산세 공정시장가액비율은 얼마인가요? 법률적 근거와 함께 설명해주세요.\"\n",
    ")\n",
    "\n",
    "# 3. 공제액 확인\n",
    "deduction_prompt = PromptTemplate(\n",
    "    input_variables=[\"ownership_period\"],\n",
    "    template=\"보유기간이 {ownership_period}년인 경우 적용 가능한 공제액을 모두 알려주세요.\"\n",
    ")\n",
    "\n",
    "# 4. 최종 세액 계산\n",
    "final_calculation_prompt = PromptTemplate(\n",
    "    input_variables=[\"tax_base\", \"fair_market_ratio\", \"deductions\"],\n",
    "    template=\"\"\"\n",
    "    다음 정보를 바탕으로 최종 종합부동산세액을 계산해주세요:\n",
    "    과세표준: {tax_base}\n",
    "    공정시장가액비율: {fair_market_ratio}\n",
    "    적용 가능 공제액: {deductions}\n",
    "    \"\"\"\n",
    ")\n"
   ]
  }
 ],
 "metadata": {
  "kernelspec": {
   "display_name": ".venv",
   "language": "python",
   "name": "python3"
  },
  "language_info": {
   "name": "python",
   "version": "3.12.9"
  }
 },
 "nbformat": 4,
 "nbformat_minor": 2
}
