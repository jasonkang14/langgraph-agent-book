{
 "cells": [
  {
   "cell_type": "markdown",
   "metadata": {},
   "source": [
    "# 9 LangChain 없이 RAG 파이프라인 구현"
   ]
  },
  {
   "cell_type": "code",
   "execution_count": 1,
   "metadata": {},
   "outputs": [],
   "source": [
    "!uv add -q python-docx tiktoken "
   ]
  },
  {
   "cell_type": "code",
   "execution_count": 3,
   "metadata": {},
   "outputs": [],
   "source": [
    "from docx import Document\n",
    "\n",
    "# 워드 문서를 직접 로드한다.\n",
    "document = Document('../documents/law_markdown.docx')\n",
    "\n",
    "full_text = ''\n",
    "for index, paragraph in enumerate(document.paragraphs):\n",
    "   full_text += f'{paragraph.text}\\n'\n"
   ]
  },
  {
   "cell_type": "code",
   "execution_count": 4,
   "metadata": {},
   "outputs": [],
   "source": [
    "import tiktoken\n",
    "\n",
    "# 텍스트를 청크로 분할하는 함수를 직접 구현해야 한다.\n",
    "def split_text(full_text, chunk_size):\n",
    "   # 토크나이저를 직접 초기화해야 한다.\n",
    "   # LangChain은 이런 저수준 설정을 자동으로 처리해준다.\n",
    "   encoder = tiktoken.encoding_for_model(\"gpt-4o\")\n",
    "   \n",
    "   # 전체 텍스트를 토큰으로 인코딩한다.\n",
    "   # LangChain은 다양한 인코딩 방식을 지원하지만, 여기서는 수동으로 처리해야 한다.\n",
    "   total_encoding = encoder.encode(full_text)\n",
    "   total_token_count = len(total_encoding)\n",
    "   \n",
    "   # 청크 단위로 텍스트를 분할한다.\n",
    "   text_list = []\n",
    "   for i in range(0, total_token_count, chunk_size):\n",
    "       chunk = total_encoding[i: i+chunk_size]\n",
    "       decoded = encoder.decode(chunk)\n",
    "       text_list.append(decoded)\n",
    "  \n",
    "   return text_list\n",
    "\n",
    "# 청크 크기를 1500으로 설정하여 분할한다.\n",
    "chunk_list = split_text(full_text, 1500)\n"
   ]
  },
  {
   "cell_type": "code",
   "execution_count": 5,
   "metadata": {},
   "outputs": [
    {
     "name": "stdout",
     "output_type": "stream",
     "text": [
      "\u001b[2K\u001b[2mResolved \u001b[1m187 packages\u001b[0m \u001b[2min 40ms\u001b[0m\u001b[0m                                        \u001b[0m\n",
      "\u001b[2K\u001b[2mAudited \u001b[1m165 packages\u001b[0m \u001b[2min 0.04ms\u001b[0m\u001b[0m                                       \u001b[0m\n"
     ]
    }
   ],
   "source": [
    "!uv add chromadb"
   ]
  },
  {
   "cell_type": "code",
   "execution_count": null,
   "metadata": {},
   "outputs": [],
   "source": [
    "import chromadb\n",
    "\n",
    "# python-chroma 패키지를 활용한 클라이언트 선언\n",
    "chroma_client = chromadb.Client()"
   ]
  },
  {
   "cell_type": "code",
   "execution_count": 7,
   "metadata": {},
   "outputs": [],
   "source": [
    "import os\n",
    "from dotenv import load_dotenv\n",
    "from chromadb.utils.embedding_functions import OpenAIEmbeddingFunction\n",
    "\n",
    "load_dotenv()\n",
    "openai_api_key = os.getenv('OPENAI_API_KEY')\n",
    "\n",
    "# 임베딩 함수를 직접 설정해야 한다.\n",
    "openai_embedding = OpenAIEmbeddingFunction(\n",
    "                                 api_key=openai_api_key,\n",
    "                                 model_name='text-embedding-3-large')\n",
    "\n",
    "# 컬렉션을 직접 생성하고 관리해야 한다.\n",
    "# LangChain은 벡터 스토어 생성과 관리를 추상화하여 제공하지만, 여기서는 저수준 API를 직접 다뤄야 한다.\n",
    "collection_name = 'tax_collection'\n",
    "tax_collection = chroma_client.get_or_create_collection(\n",
    "                         collection_name,\n",
    "                         embedding_function=openai_embedding)\n"
   ]
  },
  {
   "cell_type": "code",
   "execution_count": 8,
   "metadata": {},
   "outputs": [],
   "source": [
    "id_list = []\n",
    "for index in range(len(chunk_list)):\n",
    "    id_list.append(f'{index}')\n"
   ]
  },
  {
   "cell_type": "code",
   "execution_count": null,
   "metadata": {},
   "outputs": [],
   "source": [
    "# 벡터 저장소에 데이터 추가\n",
    "tax_collection.add(documents=chunk_list, ids=id_list)"
   ]
  },
  {
   "cell_type": "code",
   "execution_count": null,
   "metadata": {},
   "outputs": [
    {
     "data": {
      "text/plain": [
       "{'ids': [['1']],\n",
       " 'embeddings': None,\n",
       " 'documents': [['. 6. 9.>\\n\\n제2장 주택에 대한 과세\\n\\n제7조(납세의무자) ①과세기준일 현재 주택분 재산세의 납세의무자는 종합부동산세를 납부할 의무가 있다. <개정 2005. 12. 31., 2008. 12. 26., 2020. 8. 18.>\\n② 「신탁법」 제2조에 따른 수탁자(이하 “수탁자”라 한다)의 명의로 등기 또는 등록된 신탁재산으로서 주택(이하 “신탁주택”이라 한다)의 경우에는 제1항에도 불구하고 같은 조에 따른 위탁자(「주택법」 제2조제11호가목에 따른 지역주택조합 및 같은 호 나목에 따른 직장주택조합이 조합원이 납부한 금전으로 매수하여 소유하고 있는 신탁주택의 경우에는 해당 지역주택조합 및 직장주택조합을 말한다. 이하 “위탁자”라 한다)가 종합부동산세를 납부할 의무가 있다. 이 경우 위탁자가 신탁주택을 소유한 것으로 본다.<신설 2020. 12. 29.>\\n③ 삭제<2008. 12. 26.>\\n[2008. 12. 26. 법률 제9273호에 의하여 2008. 11. 13. 헌법재판소에서 위헌 결정된 이 조를 개정함.]\\n\\n제7조의2(신탁주택 관련 수탁자의 물적납세의무) 신탁주택의 위탁자가 다음 각 호의 어느 하나에 해당하는 종합부동산세 또는 강제징수비(이하 “종합부동산세등”이라 한다)를 체납한 경우로서 그 위탁자의 다른 재산에 대하여 강제징수를 하여도 징수할 금액에 미치지 못할 때에는 해당 신탁주택의 수탁자는 그 신탁주택으로써 위탁자의 종합부동산세등을 납부할 의무가 있다.\\n1. 신탁 설정일 이후에 「국세기본법」 제35조제2항에 따른 법정기일이 도래하는 종합부동산세로서 해당 신탁주택과 관련하여 발생한 것\\n2. 제1호의 금액에 대한 강제징수 과정에서 발생한 강제징수비\\n[본조신설 2020. 12. 29.]\\n\\n제8조(과세표준) ① 주택에 대한 종합부동산세의 과세표준은 납세의무자별로 주택의 공시가격을 합산한 금액에서 다음 각 호의 금액을 공제한 금액에 부동산 시장의 동향과 재정 여건 등을 고려하여 100분의 60부터 100분의 100까지의 범위에서 대통령령으로 정하는 공정시장가액비율을 곱한 금액으로 한다. 다만, 그 금액이 영보다 작은 경우에는 영으로 본다. <개정 2022. 12. 31., 2023. 4. 18.>\\n1. 대통령령으로 정하는 1세대 1주택자(이하 “1세대 1주택자”라 한다): 12억원\\n2. 제9조제2항제3호 각 목의 세율이 적용되는 법인 또는 법인으로 보는 단체: 0원\\n3. 제1호 및 제2호에 해당하지 아니하는 자: 9억원\\n②다음 각 호의 어느 하나에 해당하는 주택은 제1항에 따른 과세표준 합산의 대상이 되는 주택의 범위에 포함되지 아니하는 것으로 본다.<신설 2005. 12. 31., 2008. 12. 26., 2011. 6. 7., 2015. 8. 28., 2020. 6. 9.>\\n1. 「민간임대주택에 관한 특별법」에 따른 민간임대주택, 「공공주택 특별법」에 따른 공공임대주택 또는 대통령령으로 정하는 다가구 임대주택으로서 임대기간, 주택의 수, 가격, 규모 등을 고려하여 대통령령으로 정하는 주택\\n2. 제1호의 주택외에 종업원의 주거에 제공하기 위한 기숙사 및 사원용 주택, 주택건설사업자가 건축하여 소유하고 있는 미분양주택, 가정어린이집용 주택, 「수도권정비계획법」 제2조제1호에 따른 수도권 외 지역에 소재하는 1주택 등 종합부동산세를 부과하는 목적에 적합하지 아니한 것으로서 대통령령으로 정하는 주택. 이 경우 수도권 외 지역에 소재하는 1주택의 경우에는 2009년 1월 1일부터 2011년 12월 31일까지의 기간 중 납세의무가 성립하는 분에 한정한다.\\n③제2항의 규정에 따른 주택을 보유한 납세의무자는 해당 연도 9월 16일부터 9월 30일까지 대통령령으로 정하는 바에 따라 납세지 관할세무서장(이하 “관할세무서장”이라 한다)에게 해당 주택의 보유현황을 신고하여야 한다.<신설 2007. 1. 11., 2020. 6. 9.>\\n④ 제1항을 적용할 때 다음 각 호의 어느 하나에 해당하는 경우에는 1세대 1주택자로 본다.<개정 2022. 9. 15.>\\n1. 1주택(주택의 부속토지만을 소유한 경우는 제외한다)과 다른 주택의 부속토지(주택의 건물과 부속토지의 소유자가 다른 경우의 그 부속토지를 말한다)를 함께 소유하고 있는 경우\\n2. 1세대 1주택자가 1주택을 양도하기 전에 다른 주택을 대체취득하여 일시적으로 2주택이 된 경우로서 대통령령으로 정하는 경우\\n3. 1주택과 상속받은 주택으로서 대통령령으로 정하는 주택(이하 “상속주택”이라 한다)을 함께 소유하고 있는 경우\\n4. 1주택과 주택 소재 지역, 주택 가액 등을 고려하여 대통령령으로']],\n",
       " 'uris': None,\n",
       " 'data': None,\n",
       " 'metadatas': [[None]],\n",
       " 'distances': [[1.072473406791687]],\n",
       " 'included': [<IncludeEnum.distances: 'distances'>,\n",
       "  <IncludeEnum.documents: 'documents'>,\n",
       "  <IncludeEnum.metadatas: 'metadatas'>]}"
      ]
     },
     "execution_count": 12,
     "metadata": {},
     "output_type": "execute_result"
    }
   ],
   "source": [
    "question = \"10억짜리 집을 2채 가지고 있을 때 세금을 얼마나 내나요?\"\n",
    "retrieved_doc = tax_collection.query(\n",
    "                    query_texts=question,  # 벡터 저장소 검색을 위한 질문    \n",
    "                    n_results=1            # 벡터 저장소에서 불러올 문서 개수\n",
    "                )\n",
    "retrieved_doc"
   ]
  },
  {
   "cell_type": "code",
   "execution_count": 13,
   "metadata": {},
   "outputs": [
    {
     "data": {
      "text/plain": [
       "['. 6. 9.>\\n\\n제2장 주택에 대한 과세\\n\\n제7조(납세의무자) ①과세기준일 현재 주택분 재산세의 납세의무자는 종합부동산세를 납부할 의무가 있다. <개정 2005. 12. 31., 2008. 12. 26., 2020. 8. 18.>\\n② 「신탁법」 제2조에 따른 수탁자(이하 “수탁자”라 한다)의 명의로 등기 또는 등록된 신탁재산으로서 주택(이하 “신탁주택”이라 한다)의 경우에는 제1항에도 불구하고 같은 조에 따른 위탁자(「주택법」 제2조제11호가목에 따른 지역주택조합 및 같은 호 나목에 따른 직장주택조합이 조합원이 납부한 금전으로 매수하여 소유하고 있는 신탁주택의 경우에는 해당 지역주택조합 및 직장주택조합을 말한다. 이하 “위탁자”라 한다)가 종합부동산세를 납부할 의무가 있다. 이 경우 위탁자가 신탁주택을 소유한 것으로 본다.<신설 2020. 12. 29.>\\n③ 삭제<2008. 12. 26.>\\n[2008. 12. 26. 법률 제9273호에 의하여 2008. 11. 13. 헌법재판소에서 위헌 결정된 이 조를 개정함.]\\n\\n제7조의2(신탁주택 관련 수탁자의 물적납세의무) 신탁주택의 위탁자가 다음 각 호의 어느 하나에 해당하는 종합부동산세 또는 강제징수비(이하 “종합부동산세등”이라 한다)를 체납한 경우로서 그 위탁자의 다른 재산에 대하여 강제징수를 하여도 징수할 금액에 미치지 못할 때에는 해당 신탁주택의 수탁자는 그 신탁주택으로써 위탁자의 종합부동산세등을 납부할 의무가 있다.\\n1. 신탁 설정일 이후에 「국세기본법」 제35조제2항에 따른 법정기일이 도래하는 종합부동산세로서 해당 신탁주택과 관련하여 발생한 것\\n2. 제1호의 금액에 대한 강제징수 과정에서 발생한 강제징수비\\n[본조신설 2020. 12. 29.]\\n\\n제8조(과세표준) ① 주택에 대한 종합부동산세의 과세표준은 납세의무자별로 주택의 공시가격을 합산한 금액에서 다음 각 호의 금액을 공제한 금액에 부동산 시장의 동향과 재정 여건 등을 고려하여 100분의 60부터 100분의 100까지의 범위에서 대통령령으로 정하는 공정시장가액비율을 곱한 금액으로 한다. 다만, 그 금액이 영보다 작은 경우에는 영으로 본다. <개정 2022. 12. 31., 2023. 4. 18.>\\n1. 대통령령으로 정하는 1세대 1주택자(이하 “1세대 1주택자”라 한다): 12억원\\n2. 제9조제2항제3호 각 목의 세율이 적용되는 법인 또는 법인으로 보는 단체: 0원\\n3. 제1호 및 제2호에 해당하지 아니하는 자: 9억원\\n②다음 각 호의 어느 하나에 해당하는 주택은 제1항에 따른 과세표준 합산의 대상이 되는 주택의 범위에 포함되지 아니하는 것으로 본다.<신설 2005. 12. 31., 2008. 12. 26., 2011. 6. 7., 2015. 8. 28., 2020. 6. 9.>\\n1. 「민간임대주택에 관한 특별법」에 따른 민간임대주택, 「공공주택 특별법」에 따른 공공임대주택 또는 대통령령으로 정하는 다가구 임대주택으로서 임대기간, 주택의 수, 가격, 규모 등을 고려하여 대통령령으로 정하는 주택\\n2. 제1호의 주택외에 종업원의 주거에 제공하기 위한 기숙사 및 사원용 주택, 주택건설사업자가 건축하여 소유하고 있는 미분양주택, 가정어린이집용 주택, 「수도권정비계획법」 제2조제1호에 따른 수도권 외 지역에 소재하는 1주택 등 종합부동산세를 부과하는 목적에 적합하지 아니한 것으로서 대통령령으로 정하는 주택. 이 경우 수도권 외 지역에 소재하는 1주택의 경우에는 2009년 1월 1일부터 2011년 12월 31일까지의 기간 중 납세의무가 성립하는 분에 한정한다.\\n③제2항의 규정에 따른 주택을 보유한 납세의무자는 해당 연도 9월 16일부터 9월 30일까지 대통령령으로 정하는 바에 따라 납세지 관할세무서장(이하 “관할세무서장”이라 한다)에게 해당 주택의 보유현황을 신고하여야 한다.<신설 2007. 1. 11., 2020. 6. 9.>\\n④ 제1항을 적용할 때 다음 각 호의 어느 하나에 해당하는 경우에는 1세대 1주택자로 본다.<개정 2022. 9. 15.>\\n1. 1주택(주택의 부속토지만을 소유한 경우는 제외한다)과 다른 주택의 부속토지(주택의 건물과 부속토지의 소유자가 다른 경우의 그 부속토지를 말한다)를 함께 소유하고 있는 경우\\n2. 1세대 1주택자가 1주택을 양도하기 전에 다른 주택을 대체취득하여 일시적으로 2주택이 된 경우로서 대통령령으로 정하는 경우\\n3. 1주택과 상속받은 주택으로서 대통령령으로 정하는 주택(이하 “상속주택”이라 한다)을 함께 소유하고 있는 경우\\n4. 1주택과 주택 소재 지역, 주택 가액 등을 고려하여 대통령령으로']"
      ]
     },
     "execution_count": 13,
     "metadata": {},
     "output_type": "execute_result"
    }
   ],
   "source": [
    "retrieved_doc['documents'][0]"
   ]
  },
  {
   "cell_type": "code",
   "execution_count": null,
   "metadata": {},
   "outputs": [
    {
     "data": {
      "text/plain": [
       "'귀하가 10억 원짜리 주택을 2채 소유하고 있다면, 종합부동산세를 계산할 때 과세표준은 주택의 공시가격 총합에서 일정 금액을 공제한 후 공정시장가액비율을 적용하여 산출됩니다.\\n\\n1. **주택의 공시가격 합산**: 두 주택의 합산된 공시가격이 20억 원입니다.\\n\\n2. **과세표준 공제**: 귀하가 1세대 1주택자가 아니라면, 9억 원이 공제됩니다.\\n\\n3. **공정시장가액비율 적용**: 현재의 공정시장가액비율은 법에 따라 60%에서 100%의 범위 내의 비율이 적용됩니다. 예를 들어, 60%의 비율을 가정할 경우, 과세표준은 (20억 원 - 9억 원) × 60% = 6.6억 원이 됩니다.\\n\\n4. **세율 적용**: 과세표준에 따라 적용되는 세율은 종합부동산세법에 명시된 세율에 따라 달라집니다. 여러 구간의 세율이 있으므로 정확한 세율은 구체적인 과세표준 금액과 법령에 따라 계산되며, 여기서 제시하기는 어렵습니다.\\n\\n정확한 세율과 세금 계산을 위해서는 전문가의 도움이 필요할 수 있습니다. 공정시장가액비율과 구체적인 세율은 귀하가 과세되는 시점의 법률에 따라 달라질 수 있으므로 세무 전문가와 상담하시기를 권장합니다.'"
      ]
     },
     "execution_count": 14,
     "metadata": {},
     "output_type": "execute_result"
    }
   ],
   "source": [
    "from openai import OpenAI\n",
    "\n",
    "# OpenAI 클라이언트를 직접 초기화해야 한다. 여기서는 OpenAI 전용 코드를 작성해야 한다.\n",
    "client = OpenAI()\n",
    "\n",
    "# API 호출을 직접 구성하고 실행해야 한다.\n",
    "# LangChain은 프롬프트 관리, 콘텍스트 주입, 출력 파싱 등을 체계적으로 처리해주지만,\n",
    "# 여기서는 모든 것을 수동으로 구성해야 한다.\n",
    "response = client.chat.completions.create(\n",
    " model=\"gpt-4o\",\n",
    " messages=[\n",
    "   {\"role\": \"system\", \"content\": f\"종합부동산세 전문가입니다. 아래 내용을 참고해서 사용자의 질문에 답변해주세요 {retrieved_doc['documents'][0]}\"},\n",
    "   {\"role\": \"user\", \"content\": question}\n",
    " ]\n",
    ")\n",
    "\n",
    "# 응답에서 필요한 내용을 직접 추출해야 한다.\n",
    "# LangChain은 출력 파서를 통해 응답 처리를 자동화해주지만,\n",
    "# 여기서는 응답 객체의 구조를 직접 다뤄야 한다.\n",
    "response.choices[0].message.content\n"
   ]
  },
  {
   "cell_type": "code",
   "execution_count": null,
   "metadata": {},
   "outputs": [],
   "source": []
  }
 ],
 "metadata": {
  "kernelspec": {
   "display_name": ".venv",
   "language": "python",
   "name": "python3"
  },
  "language_info": {
   "codemirror_mode": {
    "name": "ipython",
    "version": 3
   },
   "file_extension": ".py",
   "mimetype": "text/x-python",
   "name": "python",
   "nbconvert_exporter": "python",
   "pygments_lexer": "ipython3",
   "version": "3.12.9"
  }
 },
 "nbformat": 4,
 "nbformat_minor": 2
}
