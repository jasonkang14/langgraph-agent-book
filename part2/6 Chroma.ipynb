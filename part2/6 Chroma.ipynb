{
 "cells": [
  {
   "cell_type": "markdown",
   "metadata": {},
   "source": [
    "# 6 Chroma를 활용한 RAG 파이프라인 구축"
   ]
  },
  {
   "cell_type": "code",
   "execution_count": 1,
   "metadata": {},
   "outputs": [],
   "source": [
    "! uv add -q python-dotenv langchain langchain-openai langchain-community langchain-text-splitters docx2txt langchain-chroma langchain-upstage"
   ]
  },
  {
   "cell_type": "markdown",
   "metadata": {},
   "source": [
    "# 6-1 데이터 전처리를 위한 텍스트 분할기 설정     "
   ]
  },
  {
   "cell_type": "code",
   "execution_count": 3,
   "metadata": {},
   "outputs": [],
   "source": [
    "# 문서 로더와 텍스트 분할기 임포트\n",
    "from langchain_community.document_loaders import Docx2txtLoader\n",
    "from langchain_text_splitters import RecursiveCharacterTextSplitter\n",
    "\n",
    "# 텍스트 분할기 설정 - RAG에서 중요한 전처리 단계\n",
    "text_splitter = RecursiveCharacterTextSplitter(\n",
    "   chunk_size=1500,    # 각 청크의 최대 문자 수 (너무 크면 정보가 희석, 너무 작으면 맥락 손실)\n",
    "   chunk_overlap=200,  # 인접한 청크 간 중복되는 문자 수 (맥락 연결성 유지)\n",
    "   separators=[\n",
    "       \"\\n\\n\",    # 빈 줄 (문단 구분 우선)\n",
    "       \"\\n\",      # 줄바꿈 (문장 구분)\n",
    "       \" \",       # 공백 (단어 구분)\n",
    "       \".\",       # 마침표 (문장 종료)\n",
    "       \",\",       # 쉼표 (절 구분)\n",
    "       \"\\u200b\",  # 폭 없는 공백 (웹에서 흔히 발견)\n",
    "       \"\\uff0c\",  # 전각 쉼표 (한글 텍스트용)\n",
    "       \"\\u3001\",  # 한중일 쉼표 (동아시아 언어용)\n",
    "       \"\\uff0e\",  # 전각 마침표 (한글 텍스트용)\n",
    "       \"\\u3002\",  # 한중일 마침표 (동아시아 언어용)\n",
    "       \"\",        # 마지막 구분자 (강제 분할)\n",
    "   ],\n",
    ")\n",
    "\n",
    "# 워드 문서를 로드하고 설정한 text_splitter로 분할\n",
    "# Docx2txtLoader: .docx 파일을 텍스트로 변환하는 로더\n",
    "loader = Docx2txtLoader('../documents/law.docx')\n",
    "# 문서를 로드하면서 동시에 청크로 분할하여 리스트로 반환\n",
    "document_list = loader.load_and_split(text_splitter=text_splitter)\n"
   ]
  },
  {
   "cell_type": "markdown",
   "metadata": {},
   "source": [
    "## 6-2 UpstageEmbedding 설정방법 I"
   ]
  },
  {
   "cell_type": "code",
   "execution_count": null,
   "metadata": {},
   "outputs": [],
   "source": [
    "# 필요한 라이브러리들을 가져온다.\n",
    "from dotenv import load_dotenv\n",
    "from langchain_upstage import UpstageEmbeddings\n",
    "\n",
    "# 환경변수 파일(.env)을 불러온다.\n",
    "load_dotenv()\n",
    "\n",
    "# 업스테이지의 SOLAR 임베딩 모델을 초기화한다.\n",
    "embedding = UpstageEmbeddings(\n",
    "    model='solar-embedding-1-large'  \n",
    ")"
   ]
  },
  {
   "cell_type": "markdown",
   "metadata": {},
   "source": [
    "## 6-3 UpstageEmbedding 설정방법 II"
   ]
  },
  {
   "cell_type": "code",
   "execution_count": null,
   "metadata": {},
   "outputs": [],
   "source": [
    "# 필요한 라이브러리들을 가져온다.\n",
    "import os\n",
    "\n",
    "from dotenv import load_dotenv\n",
    "from langchain_upstage import UpstageEmbeddings\n",
    "\n",
    "# 환경변수 파일을 불러온다.\n",
    "load_dotenv()\n",
    "# UPSTAGE API 키를 환경변수에서 가져온다.\n",
    "upstage_api_key = os.getenv(\"UPSTAGE_KEY\")\n",
    "# SOLAR 임베딩 모델을 설정한다.\n",
    "embedding = UpstageEmbeddings(\n",
    "    api_key=upstage_api_key,\n",
    "    model=\"solar-embedding-1-large\"\n",
    ")"
   ]
  },
  {
   "cell_type": "markdown",
   "metadata": {},
   "source": [
    "## 6-4 Chroma 벡터 저장소 생성"
   ]
  },
  {
   "cell_type": "code",
   "execution_count": null,
   "metadata": {},
   "outputs": [],
   "source": [
    "# 필요한 라이브러리들을 가져온다.\n",
    "from langchain_chroma import Chroma\n",
    "\n",
    "# 데이터를 처음 저장할 때 \n",
    "vector_store = Chroma.from_documents(\n",
    "                    documents=document_list, \n",
    "                    embedding=embedding, \n",
    "                    collection_name='tax-original',\n",
    "                    persist_directory=\"./tax-original\"\n",
    "                )\n"
   ]
  },
  {
   "cell_type": "markdown",
   "metadata": {},
   "source": [
    "## 6-5 데이터 retrieval 테스트"
   ]
  },
  {
   "cell_type": "code",
   "execution_count": 6,
   "metadata": {},
   "outputs": [
    {
     "data": {
      "text/plain": [
       "[Document(id='e496bc88-dbec-4646-b8be-6ca0fa46f4df', metadata={'source': '../documents/law.docx'}, page_content='2. 공익법인등으로서 제1호에 해당하지 아니하는 경우: 제1항 각 호에 따른 세율\\n\\n3. 제1호 및 제2호 외의 경우: 다음 각 목에 따른 세율\\n\\n가. 2주택 이하를 소유한 경우: 1천분의 27\\n\\n나. 3주택 이상을 소유한 경우: 1천분의 50\\n\\n③주택분 과세표준 금액에 대하여 해당 과세대상 주택의 주택분 재산세로 부과된 세액(「지방세법」 제111조제3항에 따라 가감조정된 세율이 적용된 경우에는 그 세율이 적용된 세액, 같은 법 제122조에 따라 세부담 상한을 적용받은 경우에는 그 상한을 적용받은 세액을 말한다)은 주택분 종합부동산세액에서 이를 공제한다.<신설 2005. 12. 31., 2008. 12. 26., 2010. 3. 31.>\\n\\n④주택분 종합부동산세액을 계산할 때 주택 수 계산 및 주택분 재산세로 부과된 세액의 공제 등에 관하여 필요한 사항은 대통령령으로 정한다.<신설 2005. 12. 31., 2018. 12. 31., 2020. 6. 9.>\\n\\n⑤ 주택분 종합부동산세 납세의무자가 1세대 1주택자에 해당하는 경우의 주택분 종합부동산세액은 제1항ㆍ제3항 및 제4항에 따라 산출된 세액에서 제6항부터 제9항까지의 규정에 따른 1세대 1주택자에 대한 공제액을 공제한 금액으로 한다. 이 경우 제6항부터 제9항까지는 공제율 합계 100분의 80의 범위에서 중복하여 적용할 수 있다.<신설 2008. 12. 26., 2018. 12. 31., 2020. 8. 18., 2022. 9. 15.>\\n\\n⑥과세기준일 현재 만 60세 이상인 1세대 1주택자의 공제액은 제1항ㆍ제3항 및 제4항에 따라 산출된 세액에 다음 표에 따른 연령별 공제율을 곱한 금액으로 한다.<신설 2008. 12. 26., 2009. 5. 27., 2020. 8. 18., 2022. 9. 15.>\\n\\n\\n\\n⑦ 과세기준일 현재 만 60세 이상인 1세대 1주택자가 제8조제4항 각 호의 어느 하나에 해당하는 경우 제6항에도 불구하고 해당 1세대 1주택자의 공제액은 제1항ㆍ제3항 및 제4항에 따라 산출된 세액에서 다음 각 호에 해당하는 산출세액(공시가격합계액으로 안분하여 계산한 금액을 말한다)을 제외한 금액에 제6항의 표에 따른 연령별 공제율을 곱한 금액으로 한다.<개정 2022. 9. 15.>\\n\\n1. 제8조제4항제1호에 해당하는 경우: 주택의 부속토지(주택의 건물과 부속토지의 소유자가 다른 경우의 그 부속토지를 말한다)분에 해당하는 산출세액\\n\\n2. 제8조제4항제2호에 해당하는 경우: 1주택을 양도하기 전 대체취득한 주택분에 해당하는 산출세액\\n\\n3. 제8조제4항제3호에 해당하는 경우: 상속주택분에 해당하는 산출세액\\n\\n4. 제8조제4항제4호에 해당하는 경우: 지방 저가주택분에 해당하는 산출세액\\n\\n⑧ 1세대 1주택자로서 해당 주택을 과세기준일 현재 5년 이상 보유한 자의 공제액은 제1항ㆍ제3항 및 제4항에 따라 산출된 세액에 다음 표에 따른 보유기간별 공제율을 곱한 금액으로 한다.<신설 2022. 9. 15.>'),\n",
       " Document(id='20950724-941c-4aaf-8746-f9089305d23d', metadata={'source': '../documents/law.docx'}, page_content='③제2항의 규정에 따른 주택을 보유한 납세의무자는 해당 연도 9월 16일부터 9월 30일까지 대통령령으로 정하는 바에 따라 납세지 관할세무서장(이하 “관할세무서장”이라 한다)에게 해당 주택의 보유현황을 신고하여야 한다.<신설 2007. 1. 11., 2020. 6. 9.>\\n\\n④ 제1항을 적용할 때 다음 각 호의 어느 하나에 해당하는 경우에는 1세대 1주택자로 본다.<개정 2022. 9. 15.>\\n\\n1. 1주택(주택의 부속토지만을 소유한 경우는 제외한다)과 다른 주택의 부속토지(주택의 건물과 부속토지의 소유자가 다른 경우의 그 부속토지를 말한다)를 함께 소유하고 있는 경우\\n\\n2. 1세대 1주택자가 1주택을 양도하기 전에 다른 주택을 대체취득하여 일시적으로 2주택이 된 경우로서 대통령령으로 정하는 경우\\n\\n3. 1주택과 상속받은 주택으로서 대통령령으로 정하는 주택(이하 “상속주택”이라 한다)을 함께 소유하고 있는 경우\\n\\n4. 1주택과 주택 소재 지역, 주택 가액 등을 고려하여 대통령령으로 정하는 지방 저가주택(이하 “지방 저가주택”이라 한다)을 함께 소유하고 있는 경우\\n\\n⑤ 제4항제2호부터 제4호까지의 규정을 적용받으려는 납세의무자는 해당 연도 9월 16일부터 9월 30일까지 대통령령으로 정하는 바에 따라 관할세무서장에게 신청하여야 한다.<신설 2022. 9. 15.>\\n\\n[2008. 12. 26. 법률 제9273호에 의하여 2008. 11. 13. 헌법재판소에서 위헌 결정된 이 조를 개정함.]\\n\\n\\n\\n제9조(세율 및 세액) ① 주택에 대한 종합부동산세는 다음 각 호와 같이 납세의무자가 소유한 주택 수에 따라 과세표준에 해당 세율을 적용하여 계산한 금액을 그 세액(이하 “주택분 종합부동산세액”이라 한다)으로 한다. <개정 2018. 12. 31., 2020. 8. 18., 2022. 12. 31.>\\n\\n1. 납세의무자가 2주택 이하를 소유한 경우\\n\\n\\n\\n2. 납세의무자가 3주택 이상을 소유한 경우\\n\\n\\n\\n② 납세의무자가 법인 또는 법인으로 보는 단체인 경우 제1항에도 불구하고 과세표준에 다음 각 호에 따른 세율을 적용하여 계산한 금액을 주택분 종합부동산세액으로 한다.<신설 2020. 8. 18., 2020. 12. 29., 2022. 12. 31., 2023. 4. 18.>\\n\\n1. 「상속세 및 증여세법」 제16조에 따른 공익법인등(이하 이 조에서 “공익법인등”이라 한다)이 직접 공익목적사업에 사용하는 주택만을 보유한 경우와 「공공주택 특별법」 제4조에 따른 공공주택사업자 등 사업의 특성을 고려하여 대통령령으로 정하는 경우: 제1항제1호에 따른 세율\\n\\n2. 공익법인등으로서 제1호에 해당하지 아니하는 경우: 제1항 각 호에 따른 세율\\n\\n3. 제1호 및 제2호 외의 경우: 다음 각 목에 따른 세율\\n\\n가. 2주택 이하를 소유한 경우: 1천분의 27\\n\\n나. 3주택 이상을 소유한 경우: 1천분의 50'),\n",
       " Document(id='162962c3-ae91-4ccd-af56-2016d29ce078', metadata={'source': '../documents/law.docx'}, page_content='4. 제8조제4항제4호에 해당하는 경우: 지방 저가주택분에 해당하는 산출세액\\n\\n⑧ 1세대 1주택자로서 해당 주택을 과세기준일 현재 5년 이상 보유한 자의 공제액은 제1항ㆍ제3항 및 제4항에 따라 산출된 세액에 다음 표에 따른 보유기간별 공제율을 곱한 금액으로 한다.<신설 2022. 9. 15.>\\n\\n\\n\\n⑨ 1세대 1주택자로서 해당 주택을 과세기준일 현재 5년 이상 보유한 자가 제8조제4항 각 호의 어느 하나에 해당하는 경우 제8항에도 불구하고 해당 1세대 1주택자의 공제액은 제1항ㆍ제3항 및 제4항에 따라 산출된 세액에서 제7항 각 호에 해당하는 산출세액(공시가격합계액으로 안분하여 계산한 금액을 말한다)을 제외한 금액에 제8항의 표에 따른 보유기간별 공제율을 곱한 금액으로 한다.<신설 2022. 9. 15.>\\n\\n[2008. 12. 26. 법률 제9273호에 의하여 2008. 11. 13. 헌법재판소에서 위헌 결정된 이 조를 개정함.]\\n\\n\\n\\n제10조(세부담의 상한) 종합부동산세의 납세의무자가 해당 연도에 납부하여야 할 주택분 재산세액상당액(신탁주택의 경우 재산세의 납세의무자가 납부하여야 할 주택분 재산세액상당액을 말한다)과 주택분 종합부동산세액상당액의 합계액(이하 이 조에서 “주택에 대한 총세액상당액”이라 한다)으로서 대통령령으로 정하는 바에 따라 계산한 세액이 해당 납세의무자에게 직전년도에 해당 주택에 부과된 주택에 대한 총세액상당액으로서 대통령령으로 정하는 바에 따라 계산한 세액의 100분의 150을 초과하는 경우에는 그 초과하는 세액에 대해서는 제9조에도 불구하고 이를 없는 것으로 본다. 다만, 납세의무자가 법인 또는 법인으로 보는 단체로서 제9조제2항제3호 각 목의 세율이 적용되는 경우는 그러하지 아니하다. <개정 2005. 12. 31., 2008. 12. 26., 2018. 12. 31., 2020. 8. 18., 2020. 12. 29., 2022. 12. 31., 2023. 4. 18.>\\n\\n1. 삭제<2022. 12. 31.>\\n\\n2. 삭제<2022. 12. 31.>\\n\\n가. 삭제<2020. 8. 18.>\\n\\n나. 삭제<2020. 8. 18.>\\n\\n\\n\\n제10조의2(공동명의 1주택자의 납세의무 등에 관한 특례) ① 제7조제1항에도 불구하고 과세기준일 현재 세대원 중 1인이 그 배우자와 공동으로 1주택을 소유하고 해당 세대원 및 다른 세대원이 다른 주택(제8조제2항 각 호의 어느 하나에 해당하는 주택 중 대통령령으로 정하는 주택을 제외한다)을 소유하지 아니한 경우로서 대통령령으로 정하는 경우에는 배우자와 공동으로 1주택을 소유한 자 또는 그 배우자 중 대통령령으로 정하는 자(이하 “공동명의 1주택자”라 한다)를 해당 1주택에 대한 납세의무자로 할 수 있다.\\n\\n② 제1항을 적용받으려는 납세의무자는 당해 연도 9월 16일부터 9월 30일까지 대통령령으로 정하는 바에 따라 관할세무서장에게 신청하여야 한다.')]"
      ]
     },
     "execution_count": 6,
     "metadata": {},
     "output_type": "execute_result"
    }
   ],
   "source": [
    "question = '10억짜리 집을 2채 가지고 있을 때 세금을 얼마나 내나요?'\n",
    "\n",
    "# k 값을 조절해서 얼마나 많은 데이터를 불러올지 결정\n",
    "retriever = vector_store.as_retriever(search_kwargs={\"k\": 3})\n",
    "\n",
    "retriever.invoke(question)\n"
   ]
  },
  {
   "cell_type": "markdown",
   "metadata": {},
   "source": [
    "## 6-6 retrieval_chain 생성"
   ]
  },
  {
   "cell_type": "code",
   "execution_count": null,
   "metadata": {},
   "outputs": [
    {
     "name": "stderr",
     "output_type": "stream",
     "text": [
      "/Users/jasonkang/personal/langgraph-book/.venv/lib/python3.12/site-packages/langsmith/client.py:272: LangSmithMissingAPIKeyWarning: API key must be provided when using hosted LangSmith API\n",
      "  warnings.warn(\n"
     ]
    }
   ],
   "source": [
    "# 필요한 라이브러리들을 가져온다.\n",
    "from langchain_openai import ChatOpenAI\n",
    "from langchain import hub\n",
    "from langchain.chains.combine_documents import create_stuff_documents_chain\n",
    "from langchain.chains import create_retrieval_chain\n",
    "\n",
    "llm = ChatOpenAI(model='gpt-4o-mini')\n",
    "\n",
    "# LangChain 허브에서 검증된 RAG용 프롬프트 템플릿을 가져온다.\n",
    "retrieval_qa_chat_prompt = hub.pull(\"langchain-ai/retrieval-qa-chat\")\n",
    "\n",
    "# 검색된 문서들을 하나의 콘텍스트로 결합하는 체인을 만든다.\n",
    "# stuff 방식은 모든 문서를 하나의 프롬프트에 넣는 간단한 방식이다.\n",
    "combine_docs_chain = create_stuff_documents_chain(\n",
    "   llm, retrieval_qa_chat_prompt\n",
    ")\n",
    "\n",
    "# retriever와 문서 결합 체인을 연결하여 최종 RAG 체인을 구성한다.\n",
    "# 이제 질문을 하면 자동으로 관련 문서를 검색하고 LLM에게 전달한다.\n",
    "retrieval_chain = create_retrieval_chain(retriever, combine_docs_chain)\n"
   ]
  },
  {
   "cell_type": "markdown",
   "metadata": {},
   "source": [
    "## 6-7 retrieval_chain을 활용한 답변 생성"
   ]
  },
  {
   "cell_type": "code",
   "execution_count": 10,
   "metadata": {},
   "outputs": [
    {
     "data": {
      "text/plain": [
       "주택에 대한 종합부동산세는 납세의무자가 소유한 주택 수에 따라 다르게 적용됩니다. 2주택 이하를 소유한 경우에는 특정 세율이 적용됩니다. 하지만 구체적인 세율은 제9조에 명시되어 있으며, 해당 세율을 적용하기 위해서는 과세표준을 계산해야 합니다.\\n\\n일반적으로 과세표준은 주택의 공시가격 합산에서 공제액을 뺀 금액에 공정시장가액비율을 곱한 금액으로 계산됩니다.\\n\\n예를 들어, 10억짜리 집을 2채 소유하고 있다면, 총 공시가격은 20억원입니다. 1세대 1주택자는 12억원이 공제되지만, 2주택 소유자는 9억원이 공제됩니다. 따라서 과세표준은 다음과 같이 계산됩니다:\\n- 총 공시가격: 20억원\\n- 공제액: 9억원\\n- 과세표준: 20억원 - 9억원 = 11억원\\n\\n이후 이 과세표준에 해당하는 세율을 적용하여 세액을 계산해야 합니다. 구체적인 세율은 법령에 따라 다르므로, 해당 세율을 확인한 후 계산해야 합니다. 세율이 다르기 때문에 정확한 세액을 계산하기 위해서는 해당 세율의 정보를 추가로 제공받아야 합니다."
      ]
     },
     "execution_count": 10,
     "metadata": {},
     "output_type": "execute_result"
    }
   ],
   "source": [
    "ai_message = retrieval_chain.invoke({\"input\": question})\n",
    "ai_message['answer']"
   ]
  },
  {
   "cell_type": "code",
   "execution_count": null,
   "metadata": {},
   "outputs": [],
   "source": []
  }
 ],
 "metadata": {
  "kernelspec": {
   "display_name": ".venv",
   "language": "python",
   "name": "python3"
  },
  "language_info": {
   "codemirror_mode": {
    "name": "ipython",
    "version": 3
   },
   "file_extension": ".py",
   "mimetype": "text/x-python",
   "name": "python",
   "nbconvert_exporter": "python",
   "pygments_lexer": "ipython3",
   "version": "3.12.9"
  }
 },
 "nbformat": 4,
 "nbformat_minor": 2
}
