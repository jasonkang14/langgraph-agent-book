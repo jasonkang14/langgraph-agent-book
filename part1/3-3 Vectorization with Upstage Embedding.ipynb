{
 "cells": [
  {
   "cell_type": "markdown",
   "metadata": {},
   "source": [
    "\n",
    "# 코드 3-3 업스테이지 임베딩 모델을 활용한 벡터화    \n"
   ]
  },
  {
   "cell_type": "code",
   "execution_count": 1,
   "metadata": {},
   "outputs": [],
   "source": [
    "import numpy as np\n",
    "\n",
    "def cosine_similarity(vec1, vec2):\n",
    "    \"\"\"\n",
    "   두 벡터 간의 코사인 유사도를 계산합니다.\n",
    "\n",
    "   매개변수:\n",
    "   vec1 (numpy array): 첫 번째 벡터\n",
    "   vec2 (numpy array): 두 번째 벡터\n",
    "\n",
    "   반환값:\n",
    "   float: vec1과 vec2 사이의 코사인 유사도\n",
    "    \"\"\"    \n",
    "    dot_product = np.dot(vec1, vec2)\n",
    "    norm_vec1 = np.linalg.norm(vec1)\n",
    "    norm_vec2 = np.linalg.norm(vec2)\n",
    "    \n",
    "    if norm_vec1 == 0 or norm_vec2 == 0:\n",
    "        return 0.0\n",
    "    \n",
    "    return dot_product / (norm_vec1 * norm_vec2)\n"
   ]
  },
  {
   "cell_type": "code",
   "execution_count": 2,
   "metadata": {},
   "outputs": [
    {
     "data": {
      "text/plain": [
       "0.852149171074866"
      ]
     },
     "execution_count": 2,
     "metadata": {},
     "output_type": "execute_result"
    }
   ],
   "source": [
    "import os \n",
    "import numpy as np\n",
    "from openai import OpenAI # openai==1.2.0\n",
    "\n",
    "# Upstage API 클라이언트 설정\n",
    "# OpenAI를 제외한 다른 공급자들은 별도의 패키지를 만들지 않고, OpenAI 의 base_url속성을 활용하는 경우가 많다\n",
    "upstage_client = OpenAI(\n",
    "  api_key=os.getenv(\"UPSTAGE_API_KEY\"),\n",
    "  base_url=\"https://api.upstage.ai/v1/solar\"\n",
    ")\n",
    "\n",
    "upstage_king_response = upstage_client.embeddings.create(\n",
    "  input=\"king\",\n",
    "  model=\"solar-embedding-1-large-query\"\n",
    ")\n",
    "\n",
    "upstage_king_vector = np.array(upstage_king_response.data[0].embedding)\n",
    "# array([-0.01189423, -0.02061462, -0.00674057, ..., -0.01081848, 0.00248146,  0.01519012])\n",
    "\n",
    "upstage_korean_king_response = upstage_client.embeddings.create(\n",
    "  input=\"왕\",\n",
    "  model=\"solar-embedding-1-large-query\"\n",
    ")\n",
    "\n",
    "upstage_korean_king_vector = np.array(upstage_korean_king_response.data[0].embedding)\n",
    "\n",
    "upstage_king_similarity = cosine_similarity(upstage_king_vector, upstage_korean_king_vector)\n",
    "upstage_king_similarity\n"
   ]
  },
  {
   "cell_type": "code",
   "execution_count": null,
   "metadata": {},
   "outputs": [],
   "source": []
  }
 ],
 "metadata": {
  "kernelspec": {
   "display_name": ".venv",
   "language": "python",
   "name": "python3"
  },
  "language_info": {
   "codemirror_mode": {
    "name": "ipython",
    "version": 3
   },
   "file_extension": ".py",
   "mimetype": "text/x-python",
   "name": "python",
   "nbconvert_exporter": "python",
   "pygments_lexer": "ipython3",
   "version": "3.12.9"
  }
 },
 "nbformat": 4,
 "nbformat_minor": 2
}
