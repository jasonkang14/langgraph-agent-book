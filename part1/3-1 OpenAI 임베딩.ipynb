{
 "cells": [
  {
   "cell_type": "markdown",
   "metadata": {},
   "source": [
    "# 3-1 OpenAI 임베딩"
   ]
  },
  {
   "cell_type": "code",
   "execution_count": 1,
   "metadata": {},
   "outputs": [],
   "source": [
    "# 필요한 라이브러리 임포트\n",
    "import os\n",
    "import numpy as np\n",
    "from dotenv import load_dotenv\n",
    "from openai import OpenAI\n",
    "\n",
    "# .env 파일에서 환경변수 로드\n",
    "load_dotenv()\n",
    "# OpenAI 클라이언트 인스턴스 생성\n",
    "openai_client = OpenAI(\n",
    "    api_key=os.getenv(\"OPENAI_API_KEY\")\n",
    ")\n",
    "\n",
    "# 영어 단어 \"king\"의 임베딩 벡터 생성\n",
    "king_embedding_response = openai_client.embeddings.create(\n",
    "    input=\"king\",\n",
    "    model=\"text-embedding-3-large\"\n",
    ")\n",
    "# 응답에서 임베딩 벡터 추출하여 numpy 배열로 변환\n",
    "king_vector = np.array(king_embedding_response.data[0].embedding)\n",
    "# array([ 0.00871815,  0.02397883, -0.00098901, ...,  0.00805294, 0.00887467, -0.0021991 ])\n",
    "\n",
    "# 한글 단어 \"왕\"의 임베딩 벡터 생성\n",
    "korean_king_embedding_response = openai_client.embeddings.create(\n",
    "    input=\"왕\",\n",
    "    model=\"text-embedding-3-large\"\n",
    ")\n",
    "\n",
    "# 응답에서 임베딩 벡터 추출하여 numpy 배열로 변환\n",
    "korean_king_vector = np.array(korean_king_embedding_response.data[0].embedding)\n",
    "# array([ 0.00871815,  0.02397883, -0.00098901, ...,  0.00805294, 0.00887467, -0.0021991 ])\n"
   ]
  }
 ],
 "metadata": {
  "kernelspec": {
   "display_name": ".venv",
   "language": "python",
   "name": "python3"
  },
  "language_info": {
   "codemirror_mode": {
    "name": "ipython",
    "version": 3
   },
   "file_extension": ".py",
   "mimetype": "text/x-python",
   "name": "python",
   "nbconvert_exporter": "python",
   "pygments_lexer": "ipython3",
   "version": "3.12.9"
  }
 },
 "nbformat": 4,
 "nbformat_minor": 2
}
