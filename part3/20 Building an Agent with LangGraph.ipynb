{
 "cells": [
  {
   "cell_type": "markdown",
   "metadata": {},
   "source": [
    "# 20 LangGraph로 구현하는 에이전트"
   ]
  },
  {
   "cell_type": "code",
   "execution_count": 1,
   "metadata": {},
   "outputs": [
    {
     "data": {
      "text/plain": [
       "True"
      ]
     },
     "execution_count": 1,
     "metadata": {},
     "output_type": "execute_result"
    }
   ],
   "source": [
    "from dotenv import load_dotenv\n",
    "\n",
    "# 환경 변수 파일(.env)을 불러온다\n",
    "load_dotenv()"
   ]
  },
  {
   "cell_type": "code",
   "execution_count": 2,
   "metadata": {},
   "outputs": [
    {
     "name": "stderr",
     "output_type": "stream",
     "text": [
      "/Users/jasonkang/personal/langgraph-book/.venv/lib/python3.12/site-packages/tqdm/auto.py:21: TqdmWarning: IProgress not found. Please update jupyter and ipywidgets. See https://ipywidgets.readthedocs.io/en/stable/user_install.html\n",
      "  from .autonotebook import tqdm as notebook_tqdm\n"
     ]
    }
   ],
   "source": [
    "from langchain_upstage import UpstageEmbeddings\n",
    "from langchain_openai import ChatOpenAI\n",
    "from langchain_pinecone import PineconeVectorStore\n",
    "\n",
    "# Upstage의 SOLAR 임베딩 모델을 초기화한다\n",
    "embedding = UpstageEmbeddings(\n",
    "    model='solar-embedding-1-large'  \n",
    ")\n",
    "\n",
    "# ChatOpenAI를 활용해서 사용할 LLM을 선언한다\n",
    "llm = ChatOpenAI(model='gpt-4o')\n",
    "small_llm = ChatOpenAI(model='gpt-4o-mini')\n",
    "\n",
    "\n",
    "index_name = \"house-tax-index\"\n",
    "# 벡터 저장소는 Chroma를 사용해도 무방하다.\n",
    "vector_store = PineconeVectorStore.from_existing_index( \n",
    "                       index_name=index_name,\n",
    "                       embedding=embedding, )\n",
    "\n",
    "retriever = vector_store.as_retriever( search_kwargs={\"k\": 3})\n",
    "question = '내가 10억짜리 집을 2채 가지고 있다면 세금을 얼마나 내나요?'\n"
   ]
  },
  {
   "cell_type": "code",
   "execution_count": 3,
   "metadata": {},
   "outputs": [],
   "source": [
    "from langgraph.graph import StateGraph, MessagesState\n",
    "\n",
    "# MessagesState를 사용하여 그래프를 초기화한다.\n",
    "# 이전 방식은 각 노드가 직접 상태를 수정했지만, 이제는 도구들이 메시지를 주고받는 방식으로 동작한다.\n",
    "graph_builder = StateGraph(MessagesState)\n"
   ]
  },
  {
   "cell_type": "code",
   "execution_count": 4,
   "metadata": {},
   "outputs": [
    {
     "name": "stderr",
     "output_type": "stream",
     "text": [
      "/Users/jasonkang/personal/langgraph-book/.venv/lib/python3.12/site-packages/langsmith/client.py:272: LangSmithMissingAPIKeyWarning: API key must be provided when using hosted LangSmith API\n",
      "  warnings.warn(\n"
     ]
    }
   ],
   "source": [
    "# LangGraph를 위한 공제액 계산 로직을 구성한다.\n",
    "# 여러 체인을 조합하여 복잡한 계산을 처리한다.\n",
    "from langchain_core.output_parsers import StrOutputParser\n",
    "from langchain_core.prompts import PromptTemplate\n",
    "from langchain_core.runnables import RunnablePassthrough\n",
    "from langchain import hub\n",
    "\n",
    "# LangChain Hub에서 검증된 RAG 프롬프트를 가져온다.\n",
    "rag_prompt = hub.pull(\"rlm/rag-prompt\")\n",
    "\n",
    "# 문서 포매팅 헬퍼 함수\n",
    "def format_docs(docs):\n",
    "   return \"\\n\\n\".join(doc.page_content for doc in docs)\n",
    "\n",
    "# 공제액 정보를 검색하고 처리하는 체인을 구성한다.\n",
    "# 작은 모델(gpt-4o-mini)로도 충분한 성능을 얻을 수 있어 비용을 절감한다.\n",
    "tax_deductible_chain = (\n",
    "   {\"context\": retriever | format_docs, \"question\": RunnablePassthrough()}\n",
    "   | rag_prompt\n",
    "   | small_llm\n",
    "   | StrOutputParser()\n",
    ")\n",
    "\n",
    "# 기본적인 공제액 정보를 조회한다.\n",
    "deductible_question = f'주택에 대한 종합부동산세 과세표준의 공제액을 알려주세요'\n",
    "tax_deductible_response = tax_deductible_chain.invoke(deductible_question)\n",
    "\n",
    "# 사용자별 공제액 계산을 위한 프롬프트를 정의한다.\n",
    "user_deduction_prompt = \"\"\"아래 [Context]는 주택에 대한 종합부동산세의 공제액에 관한 내용입니다.\n",
    "사용자의 질문을 통해서 가지고 있는 주택수에 대한 공제액이 얼마인지 금액만 반환해주세요\n",
    "\n",
    "[Context]\n",
    "{tax_deductible_response}\n",
    "\n",
    "[Question]\n",
    "질문: {question}\n",
    "답변: ­­\n",
    "\"\"\"\n",
    "user_deduction_prompt_template = PromptTemplate(\n",
    "   template=user_deduction_prompt,\n",
    "   input_variables=['tax_deductible_response', 'question']\n",
    ")\n",
    "\n",
    "# 사용자별 공제액 계산 체인을 구성한다.\n",
    "user_deduction_chain = (user_deduction_prompt_template\n",
    "   | small_llm\n",
    "   | StrOutputParser()\n",
    ")\n"
   ]
  },
  {
   "cell_type": "code",
   "execution_count": null,
   "metadata": {},
   "outputs": [],
   "source": [
    "def get_tax_deduction(state: AgentState) -> AgentState:\n",
    "    tax_deductible_response = tax_deductible_chain.invoke(deductible_question)\n",
    "    tax_deductible = user_deduction_chain.invoke({'tax_deductible_response': tax_deductible_response, 'question': state['question']})\n",
    "    return {'tax_deductible': tax_deductible}\n"
   ]
  },
  {
   "cell_type": "code",
   "execution_count": 5,
   "metadata": {},
   "outputs": [],
   "source": [
    "from langchain_core.tools import tool\n",
    "\n",
    "# LangGraph의 노드를 도구로 변환한다.\n",
    "# @tool 데코레이터를 사용하여 함수를 도구로 정의한다.\n",
    "@tool\n",
    "def get_tax_deductible(question: str) -> str:\n",
    "   \"\"\"사용자의 부동산 소유 현황에 대한 질문을 기반으로 세금 공제액을 계산합니다.\n",
    "  \n",
    "   이 도구는 다음 두 단계로 작동합니다:\n",
    "   1. tax_deductible_chain을 사용하여 일반적인 세금 공제 규칙을 검색\n",
    "   2. user_deduction_chain을 사용하여 사용자의 특정 상황에 규칙을 적용\n",
    "\n",
    "   Args:\n",
    "       question (str): 부동산 소유에 대한 사용자의 질문\n",
    "      \n",
    "   Returns:\n",
    "       str: 세금 공제액 (예: '9억원', '12억원')\n",
    "   \"\"\"\n",
    "   tax_deductible_response = tax_deductible_chain.invoke(deductible_question)\n",
    "   tax_deductible = user_deduction_chain.invoke({\n",
    "       'tax_deductible_response': tax_deductible_response,\n",
    "       'question': question\n",
    "   })\n",
    "   return tax_deductible\n"
   ]
  },
  {
   "cell_type": "code",
   "execution_count": 6,
   "metadata": {},
   "outputs": [],
   "source": [
    "# 과세표준 계산 수식을 검색하고 추출하는 체인을 구성한다.\n",
    "# 작은 모델을 사용하여 비용을 절감하면서도 정확한 수식을 추출한다.\n",
    "tax_base_chain = (\n",
    "   {\"context\": retriever | format_docs, \"question\": RunnablePassthrough()}\n",
    "   | rag_prompt\n",
    "   | small_llm\n",
    "   | StrOutputParser()\n",
    ")\n",
    "\n",
    "# 과세표준 계산 수식을 요청하는 프롬프트\n",
    "# 명확하게 수식만 반환하도록 지시한다.\n",
    "tax_base_question = '주택에 대한 종합부동산세 과세표준을 계산하는 방법은 무엇인가요? 수식으로 표현해서 수식만 반환해주세요'\n",
    "\n",
    "@tool\n",
    "def get_tax_base_equation() -> str:\n",
    "    \"\"\"종합부동산세 과세표준을 계산하기 위한 공식을 검색하고 형식화합니다.\n",
    "    \n",
    "    이 도구는 RAG(Retrieval Augmented Generation) 방식을 사용하여:\n",
    "    1. 지식 베이스에서 과세표준 계산 규칙을 검색\n",
    "    2. 검색한 규칙을 수학 공식으로 형식화\n",
    "\n",
    "    Args:\n",
    "        question (str): 사용자의 질문 (미리 정의된 질문이 사용됨)\n",
    "        \n",
    "    Returns:\n",
    "        str: 과세표준 계산 공식\n",
    "    \"\"\"\n",
    "    tax_base_equation = tax_base_chain.invoke(tax_base_question)\n",
    "\n",
    "    return tax_base_equation\n",
    "\n",
    "\n"
   ]
  },
  {
   "cell_type": "code",
   "execution_count": 7,
   "metadata": {},
   "outputs": [],
   "source": [
    "# 덕덕고 검색을 통해 최신 정보를 가져온다.\n",
    "from langchain_core.prompts import PromptTemplate\n",
    "from langchain_core.output_parsers import StrOutputParser\n",
    "from datetime import datetime\n",
    "from langchain_community.tools import DuckDuckGoSearchRun\n",
    "\n",
    "# 덕덕고 검색 도구 생성\n",
    "search = DuckDuckGoSearchRun()\n",
    "\n",
    "# 현재 연도의 공정시장가액비율을 검색한다.\n",
    "# 실시간 정보를 가져오기 위해 현재 날짜를 동적으로 사용한다.\n",
    "market_value_rate_search = search.invoke(f\"{datetime.now().year}년도 공정시장가액비율은?\")\n",
    "\n",
    "# 검색 결과에서 정확한 비율만 추출하기 위한 프롬프트를 정의한다.\n",
    "# 불필요한 설명 없이 비율만 반환하도록 명확히 지시한다.\n",
    "market_value_rate_prompt = PromptTemplate.from_template(\"\"\"아래 [Context]는 공정시장가액비율에 관한 내용입니다.\n",
    "당신에게 주어진 공정시장가액비율에 관한 내용을 기반으로, 사용자의 상황에 대한 공정시장가액비율을 알려주세요.\n",
    "별도의 설명 없이 공정시장가액비율만 반환해주세요.\n",
    "\n",
    "[Context]\n",
    "{context}\n",
    "\n",
    "[Question]\n",
    "질문: {question}\n",
    "답변:\n",
    "\"\"\")\n",
    "\n",
    "# 공정시장가액비율 추출 체인을 구성한다.\n",
    "# 작은 모델을 사용하여 간단한 추출 작업을 효율적으로 처리한다.\n",
    "market_value_rate_chain = (\n",
    "   market_value_rate_prompt\n",
    "   | small_llm\n",
    "   | StrOutputParser()\n",
    ")\n",
    "\n",
    "@tool\n",
    "def get_market_value_rate(question: str) -> str:\n",
    "    \"\"\"사용자의 부동산 상황에 적용되는 공정시장가액비율을 결정합니다.\n",
    "    \n",
    "    이 도구는:\n",
    "    1. 현재 공정시장가액비율 정보가 포함된 검색 결과를 사용\n",
    "    2. 사용자의 특정 상황(보유 부동산 수, 부동산 가치)을 분석\n",
    "    3. 적절한 공정시장가액비율을 백분율로 반환\n",
    "\n",
    "    Args:\n",
    "        question (str): 부동산 소유에 대한 사용자의 질문\n",
    "        \n",
    "    Returns:\n",
    "        str: 공정시장가액비율 백분율 (예: '60%', '45%')\n",
    "    \"\"\"\n",
    "    market_value_rate = market_value_rate_chain.invoke({\n",
    "        'context': market_value_rate_search, \n",
    "        'question': question\n",
    "    })\n",
    "    return market_value_rate\n"
   ]
  },
  {
   "cell_type": "code",
   "execution_count": 8,
   "metadata": {},
   "outputs": [],
   "source": [
    "from langchain_core.prompts import ChatPromptTemplate\n",
    "\n",
    "@tool\n",
    "def get_house_tax(tax_base_equation: str, market_value_rate: str, tax_deductible: str, question: str) -> str:\n",
    "    \"\"\"수집된 모든 정보를 사용하여 최종 종합부동산세액을 계산합니다.\n",
    "    \n",
    "    이 도구는 다음 정보들을 결합하여 최종 세액을 계산합니다:\n",
    "    1. 과세표준 계산 공식\n",
    "    2. 공정시장가액비율\n",
    "    3. 공제액\n",
    "    4. 세율표\n",
    "\n",
    "    Args:\n",
    "        tax_base_equation (str): 과세표준 계산 공식\n",
    "        market_value_rate (str): 공정시장가액비율\n",
    "        tax_deductible (str): 공제액\n",
    "        question (str): 부동산 세금 계산에 대한 사용자의 질문\n",
    "        \n",
    "    Returns:\n",
    "        str: 설명이 포함된 최종 세금 계산액\n",
    "    \"\"\"\n",
    "    house_tax_prompt = ChatPromptTemplate.from_messages([\n",
    "    ('system', f'''과세표준 계산방법: {tax_base_equation}\n",
    "    공정시장가액비율: {market_value_rate}\n",
    "    공제액: {tax_deductible}\n",
    "\n",
    "    위의 공식과 아래 세율에 관한 정보를 활용해서 세금을 계산해주세요.\n",
    "    세율: {{tax_rate}}\n",
    "    '''),\n",
    "        ('human', '{question}')\n",
    "    ])\n",
    "\n",
    "    house_tax_chain = (\n",
    "        {\n",
    "            'tax_rate': retriever | format_docs,\n",
    "            'question': RunnablePassthrough()\n",
    "        }\n",
    "        | house_tax_prompt\n",
    "        | llm\n",
    "        | StrOutputParser()\n",
    "    )\n",
    "\n",
    "    house_tax = house_tax_chain.invoke(question)\n",
    "    return house_tax\n"
   ]
  },
  {
   "cell_type": "code",
   "execution_count": 9,
   "metadata": {},
   "outputs": [],
   "source": [
    "from langgraph.prebuilt import ToolNode\n",
    "\n",
    "tool_list = [get_tax_deductible, get_tax_base_equation, get_market_value_rate, get_house_tax]\n",
    "llm_with_tools = llm.bind_tools(tool_list)\n",
    "tool_node = ToolNode(tool_list)\n"
   ]
  },
  {
   "cell_type": "code",
   "execution_count": 10,
   "metadata": {},
   "outputs": [],
   "source": [
    "from langchain_core.messages import SystemMessage\n",
    "\n",
    "def agent(state: MessagesState) -> MessagesState:\n",
    "    \"\"\"\n",
    "    에이전트 함수는 주어진 상태에서 메시지를 가져와\n",
    "    LLM과 도구를 사용하여 응답 메시지를 생성합니다.\n",
    "\n",
    "    Args:\n",
    "        state (MessagesState): 메시지 상태를 포함하는 state.\n",
    "\n",
    "    Returns:\n",
    "        MessagesState: 응답 메시지를 포함하는 새로운 state.\n",
    "    \"\"\"\n",
    "    system_message_content = \"\"\"당신의 역할은 주택에 대한 종합부동산세를 계산하는 것입니다. \n",
    "    사용자의 질문이 들어오면, 사용자의 질문을 바탕으로 종합부동산세를 계산해주세요.\n",
    "    종합부동산세를 계산하기 위해서는 과세표준을 어떻게 계산할지 파악해야하고, \n",
    "    사용자에 질문에 따른 공제액을 파악해야 하고, \n",
    "    사용자에 질문에 따른 공정시장가액비율을 파악해야 합니다.\n",
    "    이 세가지를 파악하고 나면, 종합부동산세를 계산해주세요.\n",
    "    \"\"\"\n",
    "    system_message = SystemMessage(content=system_message_content)\n",
    "    messages = [system_message] + state['messages']\n",
    "    response = llm_with_tools.invoke(messages)\n",
    "    return {'messages': [response]}\n"
   ]
  },
  {
   "cell_type": "code",
   "execution_count": 11,
   "metadata": {},
   "outputs": [
    {
     "data": {
      "text/plain": [
       "<langgraph.graph.state.StateGraph at 0x11a932570>"
      ]
     },
     "execution_count": 11,
     "metadata": {},
     "output_type": "execute_result"
    }
   ],
   "source": [
    "from langgraph.graph import START\n",
    "from langgraph.prebuilt import tools_condition\n",
    "\n",
    "graph_builder.add_node(agent)\n",
    "graph_builder.add_node('tools', tool_node)\n",
    "\n",
    "graph_builder.add_edge(START, 'agent')\n",
    "graph_builder.add_conditional_edges(\n",
    "    'agent',\n",
    "    tools_condition\n",
    ")\n",
    "graph_builder.add_edge('tools', 'agent')\n"
   ]
  },
  {
   "cell_type": "code",
   "execution_count": 12,
   "metadata": {},
   "outputs": [
    {
     "data": {
      "image/png": "[encoded data removed]",
      "text/plain": [
       "<IPython.core.display.Image object>"
      ]
     },
     "metadata": {},
     "output_type": "display_data"
    }
   ],
   "source": [
    "graph = graph_builder.compile()\n",
    "\n",
    "from IPython.display import Image, display\n",
    "\n",
    "display(Image(graph.get_graph().draw_mermaid_png()))\n"
   ]
  },
  {
   "cell_type": "code",
   "execution_count": 13,
   "metadata": {},
   "outputs": [
    {
     "name": "stdout",
     "output_type": "stream",
     "text": [
      "================================\u001b[1m Human Message \u001b[0m=================================\n",
      "\n",
      "내가 10억짜리 집을 2채 가지고 있다면 세금을 얼마나 내나요?\n",
      "==================================\u001b[1m Ai Message \u001b[0m==================================\n",
      "Tool Calls:\n",
      "  get_tax_deductible (call_c0cSWpi7L0ZUzOF11CE9jcB6)\n",
      " Call ID: call_c0cSWpi7L0ZUzOF11CE9jcB6\n",
      "  Args:\n",
      "    question: 내가 10억짜리 집을 2채 가지고 있다면 공제액은 얼마인가요?\n",
      "  get_market_value_rate (call_D50pgLov8t5a1oeEOS8YcDvv)\n",
      " Call ID: call_D50pgLov8t5a1oeEOS8YcDvv\n",
      "  Args:\n",
      "    question: 내가 10억짜리 집을 2채 가지고 있다면 공정시장가액비율은 어떻게 되나요?\n",
      "  get_tax_base_equation (call_zO66gtppAYIYOrUtS7vXFgg4)\n",
      " Call ID: call_zO66gtppAYIYOrUtS7vXFgg4\n",
      "  Args:\n",
      "=================================\u001b[1m Tool Message \u001b[0m=================================\n",
      "Name: get_tax_base_equation\n",
      "\n",
      "주택에 대한 종합부동산세 과세표준은 다음과 같이 계산됩니다:  과세표준 = (주택의 공시가격 합산 - 공제금액) × 공정시장가액비율\n",
      "==================================\u001b[1m Ai Message \u001b[0m==================================\n",
      "Tool Calls:\n",
      "  get_house_tax (call_sKate7n28LbgvquuSAvNgXMx)\n",
      " Call ID: call_sKate7n28LbgvquuSAvNgXMx\n",
      "  Args:\n",
      "    tax_base_equation: 주택에 대한 종합부동산세 과세표준은 다음과 같이 계산됩니다:  과세표준 = (주택의 공시가격 합산 - 공제금액) × 공정시장가액비율\n",
      "    market_value_rate: 60%\n",
      "    tax_deductible: 9억원\n",
      "    question: 내가 10억짜리 집을 2채 가지고 있다면 세금을 얼마나 내나요?\n",
      "=================================\u001b[1m Tool Message \u001b[0m=================================\n",
      "Name: get_house_tax\n",
      "\n",
      "먼저, 주택에 대한 종합부동산세 과세표준을 계산해야 합니다. \n",
      "\n",
      "공시가격 합산 = 10억 원 × 2 = 20억 원\n",
      "\n",
      "과세표준 = (공시가격 합산 - 공제금액) × 공정시장가액비율\n",
      "과세표준 = (20억 원 - 9억 원) × 60%\n",
      "과세표준 = 11억 원 × 60% = 6.6억 원\n",
      "\n",
      "이제 계산된 과세표준에 따라 세금을 계산합니다. 납세의무자가 2주택 이하를 소유한 경우의 세율을 적용하면:\n",
      "\n",
      "6억 원 초과 12억 원 이하 구간에 해당하므로\n",
      "\n",
      "세액 = 360만 원 + (6.6억 원 - 6억 원) × 1천분의 10\n",
      "세액 = 360만 원 + 0.6억 원 × 0.001\n",
      "세액 = 360만 원 + 60만 원 \n",
      "세액 = 420만 원\n",
      "\n",
      "따라서, 납부해야 할 주택분 종합부동산세는 420만 원입니다.\n",
      "==================================\u001b[1m Ai Message \u001b[0m==================================\n",
      "\n",
      "당신이 10억짜리 집을 2채 소유하고 있을 때, 종합부동산세로 420만 원의 세금을 내야 합니다. \n",
      "\n",
      "계산 과정은 다음과 같습니다:\n",
      "1. 주택의 공시가격 합산: 20억 원\n",
      "2. 과세표준 계산: (20억 원 - 9억 원) × 60% = 6억 6천만 원\n",
      "3. 세율 적용: 과세표준이 6억 원 초과이므로, 360만 원 + (6천만 원 × 0.0010) = 420만 원\n",
      "\n",
      "따라서 총 420만 원의 세금을 지불해야 합니다."
     ]
    }
   ],
   "source": [
    "from langchain_core.messages import HumanMessage\n",
    "question = HumanMessage(content='내가 10억짜리 집을 2채 가지고 있다면 세금을 얼마나 내나요?')\n",
    "for chunk in graph.stream({'messages': [question]}, stream_mode='values'):\n",
    "    chunk['messages'][-1].pretty_print()\n"
   ]
  },
  {
   "cell_type": "code",
   "execution_count": null,
   "metadata": {},
   "outputs": [],
   "source": []
  }
 ],
 "metadata": {
  "kernelspec": {
   "display_name": ".venv",
   "language": "python",
   "name": "python3"
  },
  "language_info": {
   "codemirror_mode": {
    "name": "ipython",
    "version": 3
   },
   "file_extension": ".py",
   "mimetype": "text/x-python",
   "name": "python",
   "nbconvert_exporter": "python",
   "pygments_lexer": "ipython3",
   "version": "3.12.9"
  }
 },
 "nbformat": 4,
 "nbformat_minor": 2
}
