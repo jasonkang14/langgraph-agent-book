{
 "cells": [
  {
   "cell_type": "markdown",
   "metadata": {},
   "source": [
    "# 12-1 LangGraph로 구현하는 워크플로"
   ]
  },
  {
   "cell_type": "code",
   "execution_count": 1,
   "metadata": {},
   "outputs": [
    {
     "data": {
      "text/plain": [
       "True"
      ]
     },
     "execution_count": 1,
     "metadata": {},
     "output_type": "execute_result"
    }
   ],
   "source": [
    "from dotenv import load_dotenv\n",
    "\n",
    "# 환경변수를 불러온다.\n",
    "load_dotenv()"
   ]
  },
  {
   "cell_type": "code",
   "execution_count": 2,
   "metadata": {},
   "outputs": [
    {
     "name": "stderr",
     "output_type": "stream",
     "text": [
      "/Users/jasonkang/personal/langgraph-book/.venv/lib/python3.12/site-packages/tqdm/auto.py:21: TqdmWarning: IProgress not found. Please update jupyter and ipywidgets. See https://ipywidgets.readthedocs.io/en/stable/user_install.html\n",
      "  from .autonotebook import tqdm as notebook_tqdm\n"
     ]
    }
   ],
   "source": [
    "from langchain_upstage import UpstageEmbeddings\n",
    "from langchain_openai import ChatOpenAI\n",
    "from langchain_pinecone import PineconeVectorStore\n",
    "\n",
    "# 업스테이지 SOLAR 임베딩 모델을 초기화한다.\n",
    "embedding = UpstageEmbeddings(\n",
    "    model='solar-embedding-1-large'  \n",
    ")\n",
    "\n",
    "# ChatOpenAI를 활용해서 사용할 LLM을 선언한다.\n",
    "llm = ChatOpenAI(model='gpt-4o')\n",
    "small_llm = ChatOpenAI(model='gpt-4o-mini')\n",
    "\n",
    "\n",
    "index_name = \"house-tax-index\"\n",
    "# 벡터 저장소는 Chroma를 사용해도 무방하다.\n",
    "vector_store = PineconeVectorStore.from_existing_index( \n",
    "                       index_name=index_name,\n",
    "                       embedding=embedding, )\n",
    "\n",
    "retriever = vector_store.as_retriever( search_kwargs={\"k\": 3})\n",
    "question = '내가 10억짜리 집을 2채 가지고 있다면 세금을 얼마나 내나요?'\n"
   ]
  },
  {
   "cell_type": "code",
   "execution_count": 3,
   "metadata": {},
   "outputs": [],
   "source": [
    "from typing_extensions import TypedDict\n",
    "\n",
    "# 그래프의 각 노드가 공유할 상태를 TypedDict로 정의한다.\n",
    "# 이렇게 타입을 명시하면 상태 관리가 더 안전하고 명확해진다.\n",
    "class AgentState(TypedDict):\n",
    "   question: str           # 사용자가 입력한 질문을 저장한다.\n",
    "   answer: str             # 계산된 세율 정보를 저장한다.\n",
    "   tax_base: str           # 과세표준 계산 수식을 저장한다.\n",
    "   tax_deduction: str      # 적용될 공제액을 저장한다.\n",
    "   market_value_rate: str  # 해당 연도의 공정시장가액비율을 저장한다.\n"
   ]
  },
  {
   "cell_type": "code",
   "execution_count": 4,
   "metadata": {},
   "outputs": [],
   "source": [
    "from langgraph.graph import StateGraph\n",
    "\n",
    "graph_builder = StateGraph(AgentState)\n"
   ]
  },
  {
   "cell_type": "code",
   "execution_count": null,
   "metadata": {},
   "outputs": [
    {
     "name": "stderr",
     "output_type": "stream",
     "text": [
      "/Users/jasonkang/personal/langgraph-book/.venv/lib/python3.12/site-packages/langsmith/client.py:272: LangSmithMissingAPIKeyWarning: API key must be provided when using hosted LangSmith API\n",
      "  warnings.warn(\n"
     ]
    }
   ],
   "source": [
    "# LangGraph를 위한 공제액 계산 로직을 구성한다.\n",
    "# 여러 체인을 조합하여 복잡한 계산을 처리한다.\n",
    "from langchain_core.output_parsers import StrOutputParser\n",
    "from langchain_core.prompts import PromptTemplate\n",
    "from langchain_core.runnables import RunnablePassthrough\n",
    "from langchain import hub\n",
    "\n",
    "# LangChain Hub에서 검증된 RAG 프롬프트를 가져온다.\n",
    "rag_prompt = hub.pull(\"rlm/rag-prompt\")\n",
    "\n",
    "# 문서 포매팅 헬퍼 함수\n",
    "def format_docs(docs):\n",
    "   return \"\\n\\n\".join(doc.page_content for doc in docs)\n",
    "\n",
    "# 공제액 정보를 검색하고 처리하는 체인을 구성한다.\n",
    "# 작은 모델(gpt-4o-mini)로도 충분한 성능을 얻을 수 있어 비용을 절감한다.\n",
    "tax_deductible_chain = (\n",
    "   {\"context\": retriever | format_docs, \"question\": RunnablePassthrough()}\n",
    "   | rag_prompt\n",
    "   | small_llm\n",
    "   | StrOutputParser()\n",
    ")\n",
    "\n",
    "# 기본적인 공제액 정보를 조회한다.\n",
    "deductible_question = f'주택에 대한 종합부동산세 과세표준의 공제액을 알려주세요'\n",
    "tax_deductible_response = tax_deductible_chain.invoke(deductible_question)\n",
    "\n",
    "# 사용자별 공제액 계산을 위한 프롬프트를 정의한다.\n",
    "user_deduction_prompt = \"\"\"아래 [Context]는 주택에 대한 종합부동산세의 공제액에 관한 내용입니다.\n",
    "사용자의 질문을 통해서 가지고 있는 주택수에 대한 공제액이 얼마인지 금액만 반환해주세요\n",
    "\n",
    "[Context]\n",
    "{tax_deductible_response}\n",
    "\n",
    "[Question]\n",
    "질문: {question}\n",
    "답변: \n",
    "\"\"\"\n",
    "user_deduction_prompt_template = PromptTemplate(\n",
    "   template=user_deduction_prompt,\n",
    "   input_variables=['tax_deductible_response', 'question']\n",
    ")\n",
    "\n",
    "# 사용자별 공제액 계산 체인을 구성한다.\n",
    "user_deduction_chain = (user_deduction_prompt_template\n",
    "   | small_llm\n",
    "   | StrOutputParser()\n",
    ")\n"
   ]
  },
  {
   "cell_type": "code",
   "execution_count": 6,
   "metadata": {},
   "outputs": [],
   "source": [
    "# AgentState를 입력받아 계산된 공제액을 상태에 추가한다.\n",
    "def get_tax_deduction(state: AgentState) -> AgentState:\n",
    "   question = state['question']\n",
    "   # 실제 공제액을 계산한다.\n",
    "   user_deduction = user_deduction_chain.invoke({\n",
    "       'tax_deductible_response': tax_deductible_response, \n",
    "       'question': question\n",
    "   })\n",
    "   return {'tax_deduction': user_deduction}\n"
   ]
  },
  {
   "cell_type": "code",
   "execution_count": 7,
   "metadata": {},
   "outputs": [],
   "source": [
    "# 과세표준 계산 수식을 검색하고 추출하는 체인을 구성한다.\n",
    "# 작은 모델을 사용하여 비용을 절감하면서도 정확한 수식을 추출한다.\n",
    "tax_base_chain = (\n",
    "   {\"context\": retriever | format_docs, \"question\": RunnablePassthrough()}\n",
    "   | rag_prompt\n",
    "   | small_llm\n",
    "   | StrOutputParser()\n",
    ")\n",
    "\n",
    "# 과세표준 계산 수식을 요청하는 프롬프트\n",
    "# 명확하게 수식만 반환하도록 지시한다.\n",
    "tax_base_question = '주택에 대한 종합부동산세 과세표준을 계산하는 방법은 무엇인가요? 수식으로 표현해서 수식만 반환해주세요'\n",
    "\n",
    "# LangGraph 노드로 사용할 과세표준 계산 함수\n",
    "# 검색된 수식을 상태에 저장한다.\n",
    "def get_tax_base(state: AgentState) -> AgentState:\n",
    "   tax_base_response = tax_base_chain.invoke(tax_base_question)\n",
    "   return {'tax_base': tax_base_response}\n"
   ]
  },
  {
   "cell_type": "code",
   "execution_count": 8,
   "metadata": {},
   "outputs": [],
   "source": [
    "# 덕덕고 검색을 통해 최신 정보를 가져온다.\n",
    "from langchain_core.prompts import PromptTemplate\n",
    "from langchain_core.output_parsers import StrOutputParser\n",
    "from datetime import datetime\n",
    "from langchain_community.tools import DuckDuckGoSearchRun\n",
    "\n",
    "# 덕덕고 검색 도구를 초기화한다.\n",
    "search = DuckDuckGoSearchRun()\n",
    "\n",
    "# 현재 연도의 공정시장가액비율을 검색한다.\n",
    "# 실시간 정보를 가져오기 위해 현재 날짜를 동적으로 사용한다.\n",
    "market_value_rate_search = search.invoke(f\"{datetime.now().year}년도 공정시장가액비율은?\")\n",
    "\n",
    "# 검색 결과에서 정확한 비율만 추출하기 위한 프롬프트를 정의한다.\n",
    "# 불필요한 설명 없이 비율만 반환하도록 명확히 지시한다.\n",
    "market_value_rate_prompt = PromptTemplate.from_template(\"\"\"아래 [Context]는 공정시장가액비율에 관한 내용입니다.\n",
    "당신에게 주어진 공정시장가액비율에 관한 내용을 기반으로, 사용자의 상황에 대한 공정시장가액비율을 알려주세요.\n",
    "별도의 설명 없이 공정시장가액비율만 반환해주세요.\n",
    "\n",
    "[Context]\n",
    "{context}\n",
    "\n",
    "[Question]\n",
    "질문: {question}\n",
    "답변:\n",
    "\"\"\")\n",
    "\n",
    "# 공정시장가액비율 추출 체인을 구성한다.\n",
    "# 작은 모델을 사용하여 간단한 추출 작업을 효율적으로 처리한다.\n",
    "market_value_rate_chain = (\n",
    "   market_value_rate_prompt\n",
    "   | small_llm\n",
    "   | StrOutputParser()\n",
    ")\n",
    "\n",
    "# LangGraph 노드로 사용할 공정시장가액비율 처리 함수\n",
    "# 검색 결과에서 사용자 상황에 맞는 비율을 추출하여 상태에 저장한다.\n",
    "def get_market_value_rate(state: AgentState) -> AgentState:\n",
    "   market_value_rate = market_value_rate_chain.invoke({\n",
    "       'context': market_value_rate_search, \n",
    "       'question': state['question']\n",
    "   })\n",
    "   return {'market_value_rate': market_value_rate}\n"
   ]
  },
  {
   "cell_type": "code",
   "execution_count": 9,
   "metadata": {},
   "outputs": [],
   "source": [
    "from langchain_core.prompts import ChatPromptTemplate\n",
    "\n",
    "# 최종 세금 계산을 수행하는 함수를 정의한다.\n",
    "def get_house_tax(state: AgentState) -> AgentState:\n",
    "   # 챗봇 형식의 프롬프트를 생성한다.\n",
    "   # system 메시지에 모든 계산 기준 정보를 포함한다.\n",
    "   # 이전 노드들에서 수집된 상태 정보를 활용한다.\n",
    "   house_tax_prompt = ChatPromptTemplate.from_messages([\n",
    "   ('system', f\"\"\"과세표준 계산방법: {state['tax_base']}\n",
    "   공정시장가액비율: {state['market_value_rate']}\n",
    "   공제액: {state['tax_deduction']}\n",
    "\n",
    "   위의 공식과 아래 세율에 관한 정보를 활용해서 세금을 계산해주세요.\n",
    "   세율: {{tax_rate}}\n",
    "   \"\"\"),\n",
    "       ('human', '{question}')\n",
    "   ])\n",
    "\n",
    "   # 세금 계산 체인을 구성한다.\n",
    "   # 세율 정보를 검색한 후 모든 정보를 프롬프트에 결합하고, 큰 모델(llm)을 사용하여 정확한 계산을 수행한다.\n",
    "   house_tax_chain = (\n",
    "       {\n",
    "           'tax_rate': retriever | format_docs,\n",
    "           'question': RunnablePassthrough()\n",
    "       }\n",
    "       | house_tax_prompt\n",
    "       | llm\n",
    "       | StrOutputParser()\n",
    "   )\n",
    "\n",
    "   # 최종 세금을 계산하고 상태에 저장한다.\n",
    "   house_tax = house_tax_chain.invoke(state['question'])\n",
    "   return {'answer': house_tax}\n"
   ]
  },
  {
   "cell_type": "code",
   "execution_count": 10,
   "metadata": {},
   "outputs": [],
   "source": [
    "\n",
    "# graph_builder.add_node('종합부동산세 계산', get_house_tax)\n",
    "# graph_builder.add_node('과세표준 계산', get_tax_base)\n",
    "# graph_builder.add_node('공정시장가액비율 계산', get_market_value_rate)\n",
    "# graph_builder.add_node('공제액 계산', get_tax_deduction)\n"
   ]
  },
  {
   "cell_type": "code",
   "execution_count": 11,
   "metadata": {},
   "outputs": [
    {
     "data": {
      "text/plain": [
       "<langgraph.graph.state.StateGraph at 0x12181fcb0>"
      ]
     },
     "execution_count": 11,
     "metadata": {},
     "output_type": "execute_result"
    }
   ],
   "source": [
    "graph_builder.add_node(get_house_tax)\n",
    "graph_builder.add_node(get_tax_deduction)\n",
    "graph_builder.add_node(get_tax_base)\n",
    "graph_builder.add_node(get_market_value_rate)\n"
   ]
  },
  {
   "cell_type": "code",
   "execution_count": 12,
   "metadata": {},
   "outputs": [
    {
     "data": {
      "text/plain": [
       "<langgraph.graph.state.StateGraph at 0x12181fcb0>"
      ]
     },
     "execution_count": 12,
     "metadata": {},
     "output_type": "execute_result"
    }
   ],
   "source": [
    "from langgraph.graph import START, END\n",
    "\n",
    "graph_builder.add_edge(START, 'get_tax_deduction')\n",
    "graph_builder.add_edge(START, 'get_tax_base')\n",
    "graph_builder.add_edge(START, 'get_market_value_rate')\n",
    "graph_builder.add_edge('get_tax_deduction', 'get_house_tax')\n",
    "graph_builder.add_edge('get_tax_base', 'get_house_tax')\n",
    "graph_builder.add_edge('get_market_value_rate', 'get_house_tax')\n",
    "graph_builder.add_edge('get_house_tax', END)\n",
    "\n",
    "graph = graph_builder.compile()"
   ]
  },
  {
   "cell_type": "code",
   "execution_count": 13,
   "metadata": {},
   "outputs": [
    {
     "data": {
      "image/png": "[encoded data removed]",
      "text/plain": [
       "<langgraph.graph.state.CompiledStateGraph object at 0x12186e6c0>"
      ]
     },
     "execution_count": 13,
     "metadata": {},
     "output_type": "execute_result"
    }
   ],
   "source": [
    "from IPython.display import Image, display\n",
    "\n",
    "display(Image(graph.get_graph().draw_mermaid_png()))\n"
   ]
  },
  {
   "cell_type": "code",
   "execution_count": 14,
   "metadata": {},
   "outputs": [
    {
     "data": {
      "text/plain": [
       "{'question': '내가 10억짜리 집을 2채 가지고 있다면 세금을 얼마나 내나요?',\n",
       " 'answer': '먼저, 과세표준을 계산해야 합니다.  \\n두 주택의 공시가격 합산은 20억 원입니다.\\n\\n과세표준 = (20억 원 - 9억 원) × 60% = 11억 원 × 60% = 6.6억 원\\n\\n두 주택을 가지고 있으므로, 2주택 이하의 소유자에 대한 세율을 적용합니다.\\n\\n과세표준이 6억 원 초과 12억 원 이하인 경우의 세율은 360만 원 + (6억 원을 초과하는 금액의 1천분의 10) 입니다.\\n\\n6.6억 원의 과세표준에서 6억 원을 초과하는 금액은 0.6억 원입니다.\\n\\n세금 = 360만 원 + (0.6억 원 × 1천분의 10) = 360만 원 + 60만 원 = 420만 원\\n\\n따라서, 납부해야 할 종합부동산세액은 420만 원입니다.',\n",
       " 'tax_base': '주택에 대한 종합부동산세 과세표준은 다음과 같이 계산됩니다:  \\n과세표준 = (주택의 공시가격 합산 - 공제금액) × 공정시장가액비율.',\n",
       " 'tax_deduction': '9억 원',\n",
       " 'market_value_rate': '공정시장가액비율 60%'}"
      ]
     },
     "execution_count": 14,
     "metadata": {},
     "output_type": "execute_result"
    }
   ],
   "source": [
    "graph.invoke({'question': question})"
   ]
  },
  {
   "cell_type": "code",
   "execution_count": null,
   "metadata": {},
   "outputs": [],
   "source": []
  }
 ],
 "metadata": {
  "kernelspec": {
   "display_name": ".venv",
   "language": "python",
   "name": "python3"
  },
  "language_info": {
   "codemirror_mode": {
    "name": "ipython",
    "version": 3
   },
   "file_extension": ".py",
   "mimetype": "text/x-python",
   "name": "python",
   "nbconvert_exporter": "python",
   "pygments_lexer": "ipython3",
   "version": "3.12.9"
  }
 },
 "nbformat": 4,
 "nbformat_minor": 2
}
