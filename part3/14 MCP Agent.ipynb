{
 "cells": [
  {
   "cell_type": "markdown",
   "metadata": {},
   "source": [
    "# 14 MCP를 활용한 에이전트 구현"
   ]
  },
  {
   "cell_type": "code",
   "execution_count": 1,
   "metadata": {},
   "outputs": [],
   "source": [
    "from dotenv import load_dotenv\n",
    "from langchain_openai import OpenAIEmbeddings\n",
    "from langchain_upstage import UpstageEmbeddings\n",
    "# 환경변수를 불러옴\n",
    "load_dotenv()\n",
    "\n",
    "# Upstage의 SOLAR 임베딩 모델을 초기화한다\n",
    "embedding = UpstageEmbeddings(\n",
    "    model='solar-embedding-1-large'  \n",
    ")"
   ]
  },
  {
   "cell_type": "code",
   "execution_count": 2,
   "metadata": {},
   "outputs": [],
   "source": [
    "from langgraph.graph import StateGraph, MessagesState\n",
    "    \n",
    "graph_builder = StateGraph(MessagesState)"
   ]
  },
  {
   "cell_type": "code",
   "execution_count": 3,
   "metadata": {},
   "outputs": [
    {
     "name": "stderr",
     "output_type": "stream",
     "text": [
      "/Users/jasonkang/personal/langgraph-book/.venv/lib/python3.12/site-packages/tqdm/auto.py:21: TqdmWarning: IProgress not found. Please update jupyter and ipywidgets. See https://ipywidgets.readthedocs.io/en/stable/user_install.html\n",
      "  from .autonotebook import tqdm as notebook_tqdm\n"
     ]
    }
   ],
   "source": [
    "from langchain_pinecone import PineconeVectorStore\n",
    "\n",
    "index_name = 'house-tax-index'\n",
    "\n",
    "vector_store = PineconeVectorStore.from_existing_index(\n",
    "                       index_name=index_name,\n",
    "                       embedding=embedding, )\n",
    "\n",
    "retriever = vector_store.as_retriever( search_kwargs={\"k\": 3})"
   ]
  },
  {
   "cell_type": "code",
   "execution_count": 4,
   "metadata": {},
   "outputs": [],
   "source": [
    "from langchain_openai import ChatOpenAI\n",
    "\n",
    "llm = ChatOpenAI(model='gpt-4o')\n",
    "small_llm = ChatOpenAI(model='gpt-4o-mini')"
   ]
  },
  {
   "cell_type": "code",
   "execution_count": 5,
   "metadata": {},
   "outputs": [],
   "source": [
    "from langchain_core.output_parsers import StrOutputParser\n",
    "from langchain_core.prompts import PromptTemplate\n",
    "from langchain_core.runnables import RunnablePassthrough\n",
    "from langchain import hub\n",
    "from langchain_core.tools import tool\n",
    "rag_prompt = hub.pull(\"rlm/rag-prompt\")\n",
    "\n",
    "def format_docs(docs):\n",
    "    return \"\\n\\n\".join(doc.page_content for doc in docs)\n",
    "\n",
    "\n",
    "tax_deductible_chain = (\n",
    "    {\"context\": retriever | format_docs, \"question\": RunnablePassthrough()}\n",
    "    | rag_prompt\n",
    "    | small_llm\n",
    "    | StrOutputParser()\n",
    ")\n",
    "\n",
    "deductible_question = f'주택에 대한 종합부동산세 과세표준의 공제액을 알려주세요'\n",
    "\n",
    "user_deduction_prompt = \"\"\"아래 [Context]는 주택에 대한 종합부동산세의 공제액에 관한 내용입니다. \n",
    "사용자의 질문을 통해서 가지고 있는 주택수에 대한 공제액이 얼마인지 금액만 반환해주세요\n",
    "\n",
    "[Context]\n",
    "{tax_deductible_response}\n",
    "\n",
    "[Question]\n",
    "질문: {question}\n",
    "답변: \n",
    "\"\"\"\n",
    "user_deduction_prompt_template = PromptTemplate(\n",
    "    template=user_deduction_prompt,\n",
    "    input_variables=['tax_deductible_response', 'question']\n",
    ")\n",
    "user_deduction_chain = (user_deduction_prompt_template\n",
    "    | small_llm\n",
    "    | StrOutputParser()\n",
    ")\n",
    "\n",
    "@tool\n",
    "def get_tax_deduction(question: str) -> str:\n",
    "    \"\"\"사용자의 부동산 소유 현황에 대한 질문을 기반으로 세금 공제액을 계산합니다.\n",
    "    \n",
    "    이 도구는 다음 두 단계로 작동합니다:\n",
    "    1. tax_deductible_chain을 사용하여 일반적인 세금 공제 규칙을 검색\n",
    "    2. user_deduction_chain을 사용하여 사용자의 특정 상황에 규칙을 적용\n",
    "\n",
    "    Args:\n",
    "        question (str): 부동산 소유에 대한 사용자의 질문\n",
    "        \n",
    "    Returns:\n",
    "        str: 세금 공제액 (예: '9억원', '12억원')\n",
    "    \"\"\"\n",
    "    tax_deductible_response = tax_deductible_chain.invoke(deductible_question)\n",
    "    tax_deductible = user_deduction_chain.invoke({\n",
    "        'tax_deductible_response': tax_deductible_response, \n",
    "        'question': question\n",
    "    })\n",
    "    return tax_deductible"
   ]
  },
  {
   "cell_type": "code",
   "execution_count": 6,
   "metadata": {},
   "outputs": [],
   "source": [
    "from langchain_core.tools.retriever import create_retriever_tool\n",
    "\n",
    "retriever_tool = create_retriever_tool(\n",
    "    retriever=retriever,\n",
    "    name='real_estate_tax_retriever',\n",
    "    description='Contains information about real estate tax up to December 2024',\n",
    ")"
   ]
  },
  {
   "cell_type": "code",
   "execution_count": 7,
   "metadata": {},
   "outputs": [],
   "source": [
    "from langchain import hub\n",
    "\n",
    "rag_prompt = hub.pull(\"rlm/rag-prompt\")\n",
    "\n",
    "def format_docs(docs):\n",
    "    \"\"\"\n",
    "    Formats a list of documents into a single string by joining their content.\n",
    "    \n",
    "    Args:\n",
    "        docs: List of Document objects containing page_content\n",
    "        \n",
    "    Returns:\n",
    "        str: Concatenated string of document contents separated by newlines\n",
    "    \"\"\"\n",
    "    return \"\\n\\n\".join(doc.page_content for doc in docs)\n",
    "\n",
    "tax_base_chain = (\n",
    "    {\"context\": retriever | format_docs, \"question\": RunnablePassthrough()}\n",
    "    | rag_prompt\n",
    "    | small_llm\n",
    "    | StrOutputParser()\n",
    ")\n",
    "tax_base_question = '주택에 대한 종합부동산세 과세표준을 계산하는 방법은 무엇인가요? 수식으로 표현해서 수식만 반환해주세요'\n",
    "\n",
    "@tool\n",
    "def get_tax_base() -> str:\n",
    "    \"\"\"종합부동산세 과세표준을 계산하기 위한 공식을 검색하고 형식화합니다.\n",
    "    \n",
    "    이 도구는 RAG(Retrieval Augmented Generation) 방식을 사용하여:\n",
    "    1. 지식 베이스에서 과세표준 계산 규칙을 검색\n",
    "    2. 검색한 규칙을 수학 공식으로 형식화\n",
    "\n",
    "    Args:\n",
    "        question (str): 사용자의 질문 (미리 정의된 질문이 사용됨)\n",
    "        \n",
    "    Returns:\n",
    "        str: 과세표준 계산 공식\n",
    "    \"\"\"\n",
    "    tax_base_response = tax_base_chain.invoke(tax_base_question)\n",
    "    return tax_base_response\n"
   ]
  },
  {
   "cell_type": "code",
   "execution_count": 8,
   "metadata": {},
   "outputs": [],
   "source": [
    "from langchain_core.prompts import ChatPromptTemplate\n",
    "\n",
    "@tool\n",
    "def get_house_tax(tax_base_question: str, market_value_rate_question: str, tax_deductible_question: str, question: str) -> str:\n",
    "    \"\"\"수집된 모든 정보를 사용하여 최종 종합부동산세액을 계산합니다.\n",
    "    \n",
    "    이 도구는 다음 정보들을 결합하여 최종 세액을 계산합니다:\n",
    "    1. 과세표준 계산 공식\n",
    "    2. 공정시장가액비율\n",
    "    3. 공제액\n",
    "    4. 세율표\n",
    "\n",
    "    Args:\n",
    "        tax_base_question (str): 과세표준 계산 공식\n",
    "        market_value_rate_question (str): 공정시장가액비율\n",
    "        tax_deductible_question (str): 공제액\n",
    "        question (str): 부동산 세금 계산에 대한 사용자의 질문\n",
    "        \n",
    "    Returns:\n",
    "        str: 설명이 포함된 최종 세금 계산액\n",
    "    \"\"\"\n",
    "    house_tax_prompt = ChatPromptTemplate.from_messages([\n",
    "    ('system', f'''과세표준 계산방법: {tax_base_question}\n",
    "    공정시장가액비율: {market_value_rate_question}\n",
    "    공제액: {tax_deductible_question}\n",
    "\n",
    "    위의 공식과 아래 세율에 관한 정보를 활용해서 세금을 계산해주세요.\n",
    "    세율: {{tax_rate}}\n",
    "    '''),\n",
    "        ('human', '{question}')\n",
    "    ])\n",
    "\n",
    "    house_tax_chain = (\n",
    "        {\n",
    "            'tax_rate': retriever | format_docs,\n",
    "            'question': RunnablePassthrough()\n",
    "        }\n",
    "        | house_tax_prompt\n",
    "        | llm\n",
    "        | StrOutputParser()\n",
    "    )\n",
    "\n",
    "    house_tax = house_tax_chain.invoke(question)\n",
    "    return house_tax"
   ]
  },
  {
   "cell_type": "code",
   "execution_count": 9,
   "metadata": {},
   "outputs": [],
   "source": [
    "# MCP 클라이언트를 생성하기 위한 MultiServerMCPClient 클래스 임포트\n",
    "from langchain_mcp_adapters.client import MultiServerMCPClient\n",
    "\n",
    "# 여러 MCP 서버에 연결할 수 있는 클라이언트 인스턴스 생성\n",
    "mcp_client = MultiServerMCPClient({\n",
    "    \"house_tax_tools\": {\n",
    "        \"command\": \"python\",\n",
    "        \"args\": [\"./mcp_server.py\"],\n",
    "        \"transport\": \"stdio\",\n",
    "    },\n",
    "})\n"
   ]
  },
  {
   "cell_type": "code",
   "execution_count": 10,
   "metadata": {},
   "outputs": [],
   "source": [
    "from langgraph.prebuilt import ToolNode\n",
    "\n",
    "# MCP 서버에서 도구 목록 가져오기\n",
    "mcp_tool_list = await mcp_client.get_tools()\n",
    "\n",
    "# 전체 도구 목록 구성 (MCP 도구 + 로컬 도구)\n",
    "tool_list = mcp_tool_list + [get_tax_deduction, get_tax_base, get_house_tax]\n",
    "\n",
    "# 도구 기능이 활성화된 LLM 생성\n",
    "llm_with_tools = llm.bind_tools(tool_list)\n",
    "\n",
    "# LangGraph용 도구 노드 생성\n",
    "tool_node = ToolNode(tool_list)"
   ]
  },
  {
   "cell_type": "code",
   "execution_count": 11,
   "metadata": {},
   "outputs": [
    {
     "data": {
      "text/plain": [
       "[StructuredTool(name='add', description='두 숫자를 더합니다', args_schema={'properties': {'a': {'title': 'A', 'type': 'integer'}, 'b': {'title': 'B', 'type': 'integer'}}, 'required': ['a', 'b'], 'title': 'addArguments', 'type': 'object'}, response_format='content_and_artifact', coroutine=<function convert_mcp_tool_to_langchain_tool.<locals>.call_tool at 0x1462d6480>),\n",
       " StructuredTool(name='get_market_value_rate', description=\"사용자의 부동산 상황에 적용되는 공정시장가액비율을 결정합니다.\\n    \\n    이 도구는:\\n    1. 현재 공정시장가액비율 정보가 포함된 검색 결과를 사용\\n    2. 사용자의 특정 상황(보유 부동산 수, 부동산 가치)을 분석\\n    3. 적절한 공정시장가액비율을 백분율로 반환\\n\\n    Args:\\n        question (str): 부동산 소유에 대한 사용자의 질문\\n        \\n    Returns:\\n        str: 공정시장가액비율 백분율 (예: '60%', '45%')\\n    \", args_schema={'properties': {'question': {'title': 'Question', 'type': 'string'}}, 'required': ['question'], 'title': 'get_market_value_rateArguments', 'type': 'object'}, response_format='content_and_artifact', coroutine=<function convert_mcp_tool_to_langchain_tool.<locals>.call_tool at 0x145c9f920>)]"
      ]
     },
     "execution_count": 11,
     "metadata": {},
     "output_type": "execute_result"
    }
   ],
   "source": [
    "mcp_tool_list"
   ]
  },
  {
   "cell_type": "code",
   "execution_count": 12,
   "metadata": {},
   "outputs": [
    {
     "data": {
      "text/plain": [
       "[StructuredTool(name='add', description='두 숫자를 더합니다', args_schema={'properties': {'a': {'title': 'A', 'type': 'integer'}, 'b': {'title': 'B', 'type': 'integer'}}, 'required': ['a', 'b'], 'title': 'addArguments', 'type': 'object'}, response_format='content_and_artifact', coroutine=<function convert_mcp_tool_to_langchain_tool.<locals>.call_tool at 0x1462d6480>),\n",
       " StructuredTool(name='get_market_value_rate', description=\"사용자의 부동산 상황에 적용되는 공정시장가액비율을 결정합니다.\\n    \\n    이 도구는:\\n    1. 현재 공정시장가액비율 정보가 포함된 검색 결과를 사용\\n    2. 사용자의 특정 상황(보유 부동산 수, 부동산 가치)을 분석\\n    3. 적절한 공정시장가액비율을 백분율로 반환\\n\\n    Args:\\n        question (str): 부동산 소유에 대한 사용자의 질문\\n        \\n    Returns:\\n        str: 공정시장가액비율 백분율 (예: '60%', '45%')\\n    \", args_schema={'properties': {'question': {'title': 'Question', 'type': 'string'}}, 'required': ['question'], 'title': 'get_market_value_rateArguments', 'type': 'object'}, response_format='content_and_artifact', coroutine=<function convert_mcp_tool_to_langchain_tool.<locals>.call_tool at 0x145c9f920>),\n",
       " StructuredTool(name='get_tax_deduction', description=\"사용자의 부동산 소유 현황에 대한 질문을 기반으로 세금 공제액을 계산합니다.\\n\\n    이 도구는 다음 두 단계로 작동합니다:\\n    1. tax_deductible_chain을 사용하여 일반적인 세금 공제 규칙을 검색\\n    2. user_deduction_chain을 사용하여 사용자의 특정 상황에 규칙을 적용\\n\\n    Args:\\n        question (str): 부동산 소유에 대한 사용자의 질문\\n\\n    Returns:\\n        str: 세금 공제액 (예: '9억원', '12억원')\", args_schema=<class 'langchain_core.utils.pydantic.get_tax_deduction'>, func=<function get_tax_deduction at 0x145c9e980>),\n",
       " StructuredTool(name='get_tax_base', description='종합부동산세 과세표준을 계산하기 위한 공식을 검색하고 형식화합니다.\\n\\n    이 도구는 RAG(Retrieval Augmented Generation) 방식을 사용하여:\\n    1. 지식 베이스에서 과세표준 계산 규칙을 검색\\n    2. 검색한 규칙을 수학 공식으로 형식화\\n\\n    Args:\\n        question (str): 사용자의 질문 (미리 정의된 질문이 사용됨)\\n\\n    Returns:\\n        str: 과세표준 계산 공식', args_schema=<class 'langchain_core.utils.pydantic.get_tax_base'>, func=<function get_tax_base at 0x145c9f7e0>),\n",
       " StructuredTool(name='get_house_tax', description='수집된 모든 정보를 사용하여 최종 종합부동산세액을 계산합니다.\\n\\n    이 도구는 다음 정보들을 결합하여 최종 세액을 계산합니다:\\n    1. 과세표준 계산 공식\\n    2. 공정시장가액비율\\n    3. 공제액\\n    4. 세율표\\n\\n    Args:\\n        tax_base_question (str): 과세표준 계산 공식\\n        market_value_rate_question (str): 공정시장가액비율\\n        tax_deductible_question (str): 공제액\\n        question (str): 부동산 세금 계산에 대한 사용자의 질문\\n\\n    Returns:\\n        str: 설명이 포함된 최종 세금 계산액', args_schema=<class 'langchain_core.utils.pydantic.get_house_tax'>, func=<function get_house_tax at 0x145c9fe20>)]"
      ]
     },
     "execution_count": 12,
     "metadata": {},
     "output_type": "execute_result"
    }
   ],
   "source": [
    "tool_list"
   ]
  },
  {
   "cell_type": "code",
   "execution_count": 13,
   "metadata": {},
   "outputs": [],
   "source": [
    "from langchain_core.messages import SystemMessage\n",
    "\n",
    "\n",
    "def agent(state: MessagesState) -> MessagesState:\n",
    "    \"\"\"\n",
    "    에이전트 함수는 주어진 상태에서 메시지를 가져와\n",
    "    LLM과 도구를 사용하여 응답 메시지를 생성합니다.\n",
    "\n",
    "    Args:\n",
    "        state (MessagesState): 메시지 상태를 포함하는 state.\n",
    "\n",
    "    Returns:\n",
    "        MessagesState: 응답 메시지를 포함하는 새로운 state.\n",
    "    \"\"\"\n",
    "    system_message_content = \"\"\"당신의 역할은 주택에 대한 종합부동산세를 계산하는 것입니다. \n",
    "    사용자의 질문이 들어오면, 사용자의 질문을 바탕으로 종합부동산세를 계산해주세요.\n",
    "    종합부동산세를 계산하기 위해서는 과세표준을 어떻게 계산할지 파악해야하고, \n",
    "    사용자에 질문에 따른 공제액을 파악해야 하고, \n",
    "    사용자에 질문에 따른 공정시장가액비율을 파악해야 합니다.\n",
    "    이 세가지를 파악하고 나면, 종합부동산세를 계산해주세요.\n",
    "    \"\"\"\n",
    "    system_message = SystemMessage(content=system_message_content)\n",
    "    messages = [system_message] + state['messages']\n",
    "    response = llm_with_tools.invoke(messages)\n",
    "    return {'messages': [response]}"
   ]
  },
  {
   "cell_type": "code",
   "execution_count": 14,
   "metadata": {},
   "outputs": [
    {
     "data": {
      "text/plain": [
       "<langgraph.graph.state.StateGraph at 0x124e36090>"
      ]
     },
     "execution_count": 14,
     "metadata": {},
     "output_type": "execute_result"
    }
   ],
   "source": [
    "graph_builder.add_node(agent)\n",
    "graph_builder.add_node('tools', tool_node)"
   ]
  },
  {
   "cell_type": "code",
   "execution_count": 15,
   "metadata": {},
   "outputs": [
    {
     "data": {
      "text/plain": [
       "<langgraph.graph.state.StateGraph at 0x124e36090>"
      ]
     },
     "execution_count": 15,
     "metadata": {},
     "output_type": "execute_result"
    }
   ],
   "source": [
    "from langgraph.graph import START, END\n",
    "from langgraph.prebuilt import tools_condition\n",
    "\n",
    "\n",
    "graph_builder.add_edge(START, 'agent')\n",
    "graph_builder.add_conditional_edges(\n",
    "    'agent',\n",
    "    tools_condition\n",
    ")\n",
    "graph_builder.add_edge('tools', 'agent')"
   ]
  },
  {
   "cell_type": "code",
   "execution_count": 16,
   "metadata": {},
   "outputs": [],
   "source": [
    "graph = graph_builder.compile()"
   ]
  },
  {
   "cell_type": "code",
   "execution_count": 17,
   "metadata": {},
   "outputs": [
    {
     "data": {
      "image/png": "[encoded data removed]",
      "text/plain": [
       "<IPython.core.display.Image object>"
      ]
     },
     "metadata": {},
     "output_type": "display_data"
    }
   ],
   "source": [
    "from IPython.display import Image, display\n",
    "\n",
    "display(Image(graph.get_graph().draw_mermaid_png()))\n"
   ]
  },
  {
   "cell_type": "code",
   "execution_count": null,
   "metadata": {},
   "outputs": [],
   "source": [
    "async def process_stream(stream_generator):\n",
    "    \"\"\"\n",
    "    비동기 스트림 제너레이터를 처리하는 유틸리티 함수\n",
    "    \n",
    "    Args:\n",
    "        stream_generator: LangGraph의 astream() 메서드가 반환하는 비동기 제너레이터\n",
    "        \n",
    "    Returns:\n",
    "        list: 스트림에서 수신한 모든 청크들의 리스트\n",
    "    \"\"\"\n",
    "    results = []\n",
    "    try:\n",
    "        # 비동기 제너레이터를 async for로 순회\n",
    "        async for chunk in stream_generator:\n",
    "            # 각 청크는 딕셔너리 형태로 단일 키를 가진다.\n",
    "            # 키는 그래프의 노드 이름을 나타낸다. (예: 'agent', 'tools')\n",
    "            key = list(chunk.keys())[0]\n",
    "            \n",
    "            if key == 'agent':\n",
    "                # Agent 노드에서 생성된 메시지 처리\n",
    "                # content가 비어있는 경우는 도구 호출을 준비하는 상태\n",
    "                agent_message = chunk['agent']['messages'][0]\n",
    "                \n",
    "                # 일반 텍스트 응답인 경우 content 필드에 내용이 있다.\n",
    "                # 도구 호출 준비 상태인 경우 additional_kwargs에 도구 호출 정보가 포함된다.\n",
    "                content = agent_message.content if agent_message.content != '' else agent_message.additional_kwargs\n",
    "                print(f\"'agent': '{content}'\")\n",
    "            \n",
    "            elif key == 'tools':\n",
    "                # Tools 노드에서 생성된 메시지 처리\n",
    "                # 도구 실행 결과는 여러 개의 메시지로 구성될 수 있다.\n",
    "                for tool_msg in chunk['tools']['messages']:\n",
    "                    print(f\"'tools': '{tool_msg.content}'\")\n",
    "            \n",
    "            # 모든 청크를 저장하여 나중에 최종 결과 확인 가능\n",
    "            results.append(chunk)\n",
    "            \n",
    "        return results\n",
    "        \n",
    "    except Exception as e:\n",
    "        # 스트림 처리 중 발생하는 예외를 포착\n",
    "        # 네트워크 오류, 타임아웃 등의 상황에서도 안정적으로 처리\n",
    "        print(f\"Error processing stream: {e}\")\n",
    "        return results"
   ]
  },
  {
   "cell_type": "code",
   "execution_count": null,
   "metadata": {},
   "outputs": [
    {
     "name": "stdout",
     "output_type": "stream",
     "text": [
      "<async_generator object Pregel.astream at 0x1462f0400>\n",
      "'agent': '{'tool_calls': [{'id': 'call_aT2PKqloCXXteWXEDf7Q20Sg', 'function': {'arguments': '{}', 'name': 'get_tax_base'}, 'type': 'function'}, {'id': 'call_CiLki0SGLkaqlbxuASQfjJ02', 'function': {'arguments': '{\"question\": \"집이 13억일 때 공정시장가액비율은 얼마인가요?\"}', 'name': 'get_market_value_rate'}, 'type': 'function'}, {'id': 'call_CgA3Vhvn9hsVkS8vssvSGBsI', 'function': {'arguments': '{\"question\": \"집이 13억일 때 세금 공제액은 얼마인가요?\"}', 'name': 'get_tax_deduction'}, 'type': 'function'}], 'refusal': None}'\n",
      "'tools': '(주택 공시가격 - 공제금액) * 공정시장가액비율'\n",
      "'tools': '60%'\n",
      "'tools': 'Error: InternalServerError(\"Error code: 500 - {'error': {'message': 'The server had an error while processing your request. Sorry about that!', 'type': 'server_error', 'param': None, 'code': None}}\")\n",
      " Please fix your mistakes.'\n",
      "'agent': '{'tool_calls': [{'id': 'call_82xm0GRr5DNAn9MylSWtOXBb', 'function': {'arguments': '{\"question\":\"집이 13억일 때 세금 공제액은 얼마인가요?\"}', 'name': 'get_tax_deduction'}, 'type': 'function'}], 'refusal': None}'\n",
      "'tools': '12억원'\n",
      "'agent': '{'tool_calls': [{'id': 'call_sDriQyQuogHGxMuplB6wcfdw', 'function': {'arguments': '{\"tax_base_question\":\"(주택 공시가격 - 공제금액) * 공정시장가액비율\",\"market_value_rate_question\":\"60%\",\"tax_deductible_question\":\"12억원\",\"question\":\"집이 13억일 때 종합부동산세는 얼마인가요?\"}', 'name': 'get_house_tax'}, 'type': 'function'}], 'refusal': None}'\n",
      "'tools': '주택의 공시가격이 13억 원일 때 종합부동산세를 계산해 보겠습니다.\n",
      "\n",
      "1. 과세표준 계산:\n",
      "   - 과세표준 = (주택 공시가격 - 공제금액) * 공정시장가액비율\n",
      "   - 공제금액: 12억 원\n",
      "   - 공정시장가액비율: 60%\n",
      "   \n",
      "   과세표준 = (13억 원 - 12억 원) * 0.6\n",
      "            = 1억 원 * 0.6\n",
      "            = 0.6억 원 (6,000만 원)\n",
      "\n",
      "2. 세금 계산:\n",
      "   - 3주택 이상 여부에 따라 세율이 다르므로, 여기에 대한 정보가 필요합니다. \n",
      "   - 주어지지 않은 경우 일반주택으로 가정합니다.\n",
      "   \n",
      "   만약 주택이 3주택 이상이라면:\n",
      "   - 과세표준이 3억 원 이하인 경우: 1천분의 5\n",
      "   - 세금 = 6,000만 원 * 0.0005 = 30만 원\n",
      "\n",
      "   만약 주택이 3주택 이상 아니라면:\n",
      "   - 기본적으로 과세표준이 25억 원 이하이므로 0. 기본 세율보다 낮습니다.\n",
      "\n",
      "결론:\n",
      "- 주택이 3주택 이상인 경우 종합부동산세는 30만 원입니다.\n",
      "- 일반적으로는 비과세 범위에 해당할 수 있습니다.\n",
      "\n",
      "정확한 판단을 위해 추가적인 조건이 필요할 수 있습니다.'\n",
      "'agent': '주택의 공시가격이 13억 원일 때 종합부동산세는 다음과 같습니다:\n",
      "\n",
      "1. 과세표준 계산:\n",
      "   - 과세표준 = (주택 공시가격 - 공제금액) * 공정시장가액비율\n",
      "   - 공제금액: 12억 원\n",
      "   - 공정시장가액비율: 60%\n",
      "   \n",
      "   과세표준 = (13억 원 - 12억 원) * 0.6 = 0.6억 원 (6,000만 원)\n",
      "\n",
      "2. 세금 계산:\n",
      "   - 주택이 3주택 이상이라면 세율이 달라질 수 있으며, 이 경우 세금은 30만 원이 될 수 있습니다.\n",
      "   - 주택이 일반적인 범주에 속한다면, 이는 비과세 범위에 해당할 수 있습니다.\n",
      "\n",
      "정확한 세금 계산을 위해 주택 보유 상황(예: 몇 주택 보유 여부)에 대한 추가적인 정보가 필요할 수 있습니다.'\n",
      "\n",
      "Final result: {'agent': {'messages': [AIMessage(content='주택의 공시가격이 13억 원일 때 종합부동산세는 다음과 같습니다:\\n\\n1. 과세표준 계산:\\n   - 과세표준 = (주택 공시가격 - 공제금액) * 공정시장가액비율\\n   - 공제금액: 12억 원\\n   - 공정시장가액비율: 60%\\n   \\n   과세표준 = (13억 원 - 12억 원) * 0.6 = 0.6억 원 (6,000만 원)\\n\\n2. 세금 계산:\\n   - 주택이 3주택 이상이라면 세율이 달라질 수 있으며, 이 경우 세금은 30만 원이 될 수 있습니다.\\n   - 주택이 일반적인 범주에 속한다면, 이는 비과세 범위에 해당할 수 있습니다.\\n\\n정확한 세금 계산을 위해 주택 보유 상황(예: 몇 주택 보유 여부)에 대한 추가적인 정보가 필요할 수 있습니다.', additional_kwargs={'refusal': None}, response_metadata={'token_usage': {'completion_tokens': 222, 'prompt_tokens': 1482, 'total_tokens': 1704, 'completion_tokens_details': {'accepted_prediction_tokens': 0, 'audio_tokens': 0, 'reasoning_tokens': 0, 'rejected_prediction_tokens': 0}, 'prompt_tokens_details': {'audio_tokens': 0, 'cached_tokens': 1024}}, 'model_name': 'gpt-4o-2024-08-06', 'system_fingerprint': 'fp_07871e2ad8', 'id': 'chatcmpl-BgtcIHTXLkgUfVrgO4tInCwPZdb4S', 'finish_reason': 'stop', 'logprobs': None}, id='run--4ca71746-e3e5-43c2-a406-64505e4191f4-0', usage_metadata={'input_tokens': 1482, 'output_tokens': 222, 'total_tokens': 1704, 'input_token_details': {'audio': 0, 'cache_read': 1024}, 'output_token_details': {'audio': 0, 'reasoning': 0}})]}}\n"
     ]
    }
   ],
   "source": [
    "from langchain_core.messages import HumanMessage\n",
    "question = '집이 13억일 때 세금은 얼마인가요?'\n",
    "stream_generator = graph.astream({'messages': [HumanMessage(content=question)]})\n",
    "print(stream_generator)\n",
    "\n",
    "all_chunks = await process_stream(stream_generator)\n",
    "\n",
    "# Pinecone에서 오류가 발생하여 retrieveal을 위해 도구가 여러 번 호출된다.\n",
    "if all_chunks:\n",
    "    final_result = all_chunks[-1]\n",
    "    print(\"\\nFinal result:\", final_result)"
   ]
  },
  {
   "cell_type": "code",
   "execution_count": null,
   "metadata": {},
   "outputs": [],
   "source": []
  }
 ],
 "metadata": {
  "kernelspec": {
   "display_name": ".venv",
   "language": "python",
   "name": "python3"
  },
  "language_info": {
   "codemirror_mode": {
    "name": "ipython",
    "version": 3
   },
   "file_extension": ".py",
   "mimetype": "text/x-python",
   "name": "python",
   "nbconvert_exporter": "python",
   "pygments_lexer": "ipython3",
   "version": "3.12.9"
  }
 },
 "nbformat": 4,
 "nbformat_minor": 2
}
