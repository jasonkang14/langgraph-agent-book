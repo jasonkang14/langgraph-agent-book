{
 "cells": [
  {
   "cell_type": "markdown",
   "metadata": {},
   "source": [
    "# 21-1 py-zerox를 활용한 데이터 전처리"
   ]
  },
  {
   "cell_type": "code",
   "execution_count": null,
   "metadata": {},
   "outputs": [],
   "source": [
    "import nest_asyncio\n",
    "nest_asyncio.apply()\n",
    "from dotenv import load_dotenv\n",
    "from pyzerox import zerox\n",
    "import asyncio\n",
    "\n",
    "load_dotenv()\n",
    "\n",
    "# OpenAI 모델\n",
    "model = \"gpt-4o\"\n",
    "\n",
    "async def main():\n",
    "    file_path = \"./income_tax.pdf\"  # 로컬 파일 경로 및 파일 URL 지원\n",
    "\n",
    "    select_pages = None  # 모든 페이지를 처리하려면 None, 특정 페이지 번호(1부터 시작)를 처리하려면 int 또는 list(int)\n",
    "\n",
    "    output_dir = \"./output\"  # 통합된 마크다운 파일을 저장할 디렉터리\n",
    "    result = await zerox(file_path=file_path, model=model, output_dir=output_dir, select_pages=select_pages)\n",
    "    return result\n",
    "\n",
    "# 메인 함수 실행\n",
    "result = asyncio.run(main())\n",
    "\n",
    "# 마크다운 결과 출력\n",
    "print(result)\n"
   ]
  },
  {
   "cell_type": "code",
   "execution_count": 14,
   "metadata": {},
   "outputs": [],
   "source": [
    "import nest_asyncio\n",
    "nest_asyncio.apply()"
   ]
  },
  {
   "cell_type": "code",
   "execution_count": 21,
   "metadata": {},
   "outputs": [
    {
     "name": "stdout",
     "output_type": "stream",
     "text": [
      "Markdown converted to plain text successfully!\n"
     ]
    }
   ],
   "source": [
    "import markdown\n",
    "from bs4 import BeautifulSoup\n",
    "markdown_path = './output/income_tax.md'\n",
    "text_path = './output/income_tax.txt'\n",
    "\n",
    "# 마크다운 파일을 읽어온다.\n",
    "with open(markdown_path, 'r', encoding='utf-8') as md_file:\n",
    "    md_content = md_file.read()\n",
    "\n",
    "# 마크다운 콘텐츠를 HTML로 변환한다.\n",
    "html_content = markdown.markdown(md_content)\n",
    "\n",
    "# HTML 콘텐츠를 파싱하여 텍스트만 추출한다.\n",
    "soup = BeautifulSoup(html_content, 'html.parser')\n",
    "text_content = soup.get_text()\n",
    "\n",
    "# 추출한 텍스트를 텍스트 파일로 저장한다.\n",
    "with open(text_path, 'w', encoding='utf-8') as txt_file:\n",
    "    txt_file.write(text_content)\n",
    "\n",
    "print(\"Markdown converted to plain text successfully!\")"
   ]
  },
  {
   "cell_type": "code",
   "execution_count": 1,
   "metadata": {},
   "outputs": [],
   "source": [
    "from langchain_community.document_loaders import TextLoader\n",
    "from langchain_text_splitters import RecursiveCharacterTextSplitter\n",
    "text_path = './output/income_tax.txt'\n",
    "text_splitter = RecursiveCharacterTextSplitter(\n",
    "    chunk_size=1500,\n",
    "    chunk_overlap=200,\n",
    "    separators=[\n",
    "        \"\\n\\n\",\n",
    "        \"\\n\",\n",
    "        \"\",\n",
    "    ],\n",
    ")\n",
    "\n",
    "loader = TextLoader(text_path)\n",
    "document_list = loader.load_and_split(text_splitter)"
   ]
  },
  {
   "cell_type": "code",
   "execution_count": 5,
   "metadata": {},
   "outputs": [
    {
     "data": {
      "text/plain": [
       "Document(metadata={'source': './output/income_tax.txt'}, page_content='제4절 세액의 계산 <개정 2009. 12. 31.>\\n제1관 세율 <개정 2009. 12. 31.>\\n제55조(세율)\\n① 거주자의 종합소득에 대한 소득세는 해당 연도의 종합소득과세표준에 다음의 세율을 적용하여 계산한 금액(이하 \"종합소득산출세액\"이라 한다)을 그 세액으로 한다. <개정 2014. 1. 1., 2016. 12. 20., 2017. 12. 19., 2020. 12. 29., 2022. 12. 31.>  \\n| 종합소득과세표준        | 세 율                                                    |\\n|-------------------------|------------------------------------------------------|\\n| 1,400만원 이하         | 과세표준의 6퍼센트                                       |\\n| 1,400만원 초과         | 84만원 + (1,400만원을 초과하는 금액의 15퍼센트)          |\\n| 5,000만원 초과         | 624만원 + (5,000만원을 초과하는 금액의 24퍼센트)          |\\n| 8,800만원 초과         | 1,536만원 + (8,800만원을 초과하는 금액의 35퍼센트)        |\\n| 1억5천만원 이하        | 3,706만원 + (1억5천만원을 초과하는 금액의 38퍼센트)       |\\n| 3억원 이하             | 9,406만원 + (3억원을 초과하는 금액의 40퍼센트)           |\\n| 5억원 이하             | 1억7,406만원 + (5억원을 초과하는 금액의 42퍼센트)         |\\n| 10억원 초과            | 3억8,406만원 + (10억원을 초과하는 금액의 45퍼센트)        |')"
      ]
     },
     "execution_count": 5,
     "metadata": {},
     "output_type": "execute_result"
    }
   ],
   "source": [
    "document_list[62]"
   ]
  },
  {
   "cell_type": "code",
   "execution_count": 6,
   "metadata": {},
   "outputs": [],
   "source": [
    "import os\n",
    "from dotenv import load_dotenv\n",
    "from langchain_openai import OpenAIEmbeddings\n",
    "\n",
    "# 환경변수를 불러온다.\n",
    "load_dotenv()\n",
    "\n",
    "# OpenAI에서 제공하는 Embedding Model을 불러온다.\n",
    "embedding = OpenAIEmbeddings(\n",
    "    model='text-embedding-3-large'\n",
    ")"
   ]
  },
  {
   "cell_type": "code",
   "execution_count": 7,
   "metadata": {},
   "outputs": [
    {
     "name": "stderr",
     "output_type": "stream",
     "text": [
      "/Users/jasonkang/.pyenv/versions/3.11.9/envs/langchain-rag-pipeline/lib/python3.11/site-packages/pinecone/data/index.py:1: TqdmWarning: IProgress not found. Please update jupyter and ipywidgets. See https://ipywidgets.readthedocs.io/en/stable/user_install.html\n",
      "  from tqdm.autonotebook import tqdm\n"
     ]
    }
   ],
   "source": [
    "from langchain_pinecone import PineconeVectorStore\n",
    "\n",
    "index_name = 'income-tax-index'  # 인덱스 이름 설정\n",
    "vector_store = PineconeVectorStore.from_documents(\n",
    "    documents=document_list,\n",
    "    embedding=embedding,\n",
    "    index_name=index_name,\n",
    ")"
   ]
  }
 ],
 "metadata": {
  "kernelspec": {
   "display_name": ".venv",
   "language": "python",
   "name": "python3"
  },
  "language_info": {
   "codemirror_mode": {
    "name": "ipython",
    "version": 3
   },
   "file_extension": ".py",
   "mimetype": "text/x-python",
   "name": "python",
   "nbconvert_exporter": "python",
   "pygments_lexer": "ipython3",
   "version": "3.12.9"
  }
 },
 "nbformat": 4,
 "nbformat_minor": 2
}
